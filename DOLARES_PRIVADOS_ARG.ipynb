{
  "nbformat": 4,
  "nbformat_minor": 0,
  "metadata": {
    "colab": {
      "name": "DOLARES_PRIVADOS_ARG.ipynb",
      "provenance": [],
      "authorship_tag": "ABX9TyOdCaBRUChyd0k/LG1hM6qx",
      "include_colab_link": true
    },
    "kernelspec": {
      "name": "python3",
      "display_name": "Python 3"
    }
  },
  "cells": [
    {
      "cell_type": "markdown",
      "metadata": {
        "id": "view-in-github",
        "colab_type": "text"
      },
      "source": [
        "<a href=\"https://colab.research.google.com/github/BenegaAriel/Data_Analysis_Practice/blob/main/DOLARES_PRIVADOS_ARG.ipynb\" target=\"_parent\"><img src=\"https://colab.research.google.com/assets/colab-badge.svg\" alt=\"Open In Colab\"/></a>"
      ]
    },
    {
      "cell_type": "markdown",
      "metadata": {
        "id": "WPp5RRJjkwh4"
      },
      "source": [
        "##**Depositos en dolares del sector privado en Argentina.**\n",
        "\n",
        "*Los ahorristas compran dolares por Homebanking y por precaucion prefieren retirarlos y guardarlos \"en el colchon\".*"
      ]
    },
    {
      "cell_type": "markdown",
      "metadata": {
        "id": "0EwkAzkCkpqE"
      },
      "source": [
        "#### Import Necessary Libraries"
      ]
    },
    {
      "cell_type": "code",
      "metadata": {
        "id": "sdRXmBUwkZTD",
        "colab": {
          "base_uri": "https://localhost:8080/"
        },
        "outputId": "37589486-6db4-406c-dccc-2d30c5450305"
      },
      "source": [
        "pip install calplot"
      ],
      "execution_count": 1,
      "outputs": [
        {
          "output_type": "stream",
          "name": "stdout",
          "text": [
            "Collecting calplot\n",
            "  Downloading calplot-0.1.7.3-py3-none-any.whl (8.1 kB)\n",
            "Requirement already satisfied: matplotlib in /usr/local/lib/python3.7/dist-packages (from calplot) (3.2.2)\n",
            "Requirement already satisfied: pandas>=1 in /usr/local/lib/python3.7/dist-packages (from calplot) (1.1.5)\n",
            "Requirement already satisfied: numpy in /usr/local/lib/python3.7/dist-packages (from calplot) (1.19.5)\n",
            "Requirement already satisfied: pytz>=2017.2 in /usr/local/lib/python3.7/dist-packages (from pandas>=1->calplot) (2018.9)\n",
            "Requirement already satisfied: python-dateutil>=2.7.3 in /usr/local/lib/python3.7/dist-packages (from pandas>=1->calplot) (2.8.2)\n",
            "Requirement already satisfied: six>=1.5 in /usr/local/lib/python3.7/dist-packages (from python-dateutil>=2.7.3->pandas>=1->calplot) (1.15.0)\n",
            "Requirement already satisfied: cycler>=0.10 in /usr/local/lib/python3.7/dist-packages (from matplotlib->calplot) (0.10.0)\n",
            "Requirement already satisfied: kiwisolver>=1.0.1 in /usr/local/lib/python3.7/dist-packages (from matplotlib->calplot) (1.3.1)\n",
            "Requirement already satisfied: pyparsing!=2.0.4,!=2.1.2,!=2.1.6,>=2.0.1 in /usr/local/lib/python3.7/dist-packages (from matplotlib->calplot) (2.4.7)\n",
            "Installing collected packages: calplot\n",
            "Successfully installed calplot-0.1.7.3\n"
          ]
        }
      ]
    },
    {
      "cell_type": "code",
      "metadata": {
        "id": "sytCbL21koYL"
      },
      "source": [
        "import pandas as pd\n",
        "import numpy as np\n",
        "import seaborn as sns\n",
        "import matplotlib.pyplot as plt\n",
        "import matplotlib.dates as mdates\n",
        "%matplotlib inline\n",
        "import time\n",
        "from datetime import date, datetime, timedelta\n",
        "import datetime as dt\n",
        "import plotly.graph_objects as go\n",
        "import calplot"
      ],
      "execution_count": 2,
      "outputs": []
    },
    {
      "cell_type": "markdown",
      "metadata": {
        "id": "HnOESUxsloPx"
      },
      "source": [
        "#### Load Data"
      ]
    },
    {
      "cell_type": "code",
      "metadata": {
        "id": "nL0dScW2lri3",
        "colab": {
          "base_uri": "https://localhost:8080/",
          "height": 35
        },
        "outputId": "0dc71aaa-0b5e-4fef-978e-7606bf37235e"
      },
      "source": [
        "# Current day\n",
        "today = date.today()\n",
        "str(today)"
      ],
      "execution_count": 3,
      "outputs": [
        {
          "output_type": "execute_result",
          "data": {
            "application/vnd.google.colaboratory.intrinsic+json": {
              "type": "string"
            },
            "text/plain": [
              "'2021-09-09'"
            ]
          },
          "metadata": {},
          "execution_count": 3
        }
      ]
    },
    {
      "cell_type": "code",
      "metadata": {
        "id": "ze-if-FXluOa"
      },
      "source": [
        "# Data from https://www.bcra.gob.ar/PublicacionesEstadisticas/Cuadros_estandarizados_series_estadisticas.asp\n",
        "# Dinero y crédito (saldos).\n",
        "# Información diaria sobre Reservas Internacionales, principales pasivos del BCRA y principales activos y pasivos de las entidades financieras.\n",
        "\n",
        "# Importar informacion de depositos privados en dolares desde la pagina del BCRA.\n",
        "# Copiar el link donde se aloja el Archivo Excel.\n",
        "# Los datos tienen dos dias de Diferencia. Ejemplo: 2020-08-21 se van a conocer los datos del 2020-08-19\n",
        "\n",
        "xls_2021 = pd.ExcelFile('https://www.bcra.gob.ar/Pdfs/PublicacionesEstadisticas/dep2021.xls')\n",
        "\n",
        "xls_2020 = pd.ExcelFile('https://www.bcra.gob.ar/Pdfs/PublicacionesEstadisticas/dep2020.xls')\n",
        "\n",
        "xls_2019 = pd.ExcelFile('https://www.bcra.gob.ar/Pdfs/PublicacionesEstadisticas/dep2019.xls')\n",
        "\n",
        "xls_2018 = pd.ExcelFile('https://www.bcra.gob.ar/Pdfs/PublicacionesEstadisticas/dep2018.xls')\n",
        "\n",
        "xls_2017 = pd.ExcelFile('https://www.bcra.gob.ar/Pdfs/PublicacionesEstadisticas/dep2017.xls')\n",
        "\n",
        "xls_2016 = pd.ExcelFile('https://www.bcra.gob.ar/Pdfs/PublicacionesEstadisticas/dep2016.xls')\n",
        "\n",
        "xls_2015 = pd.ExcelFile('https://www.bcra.gob.ar/Pdfs/PublicacionesEstadisticas/dep2015.xls')\n",
        "\n",
        "xls_2014 = pd.ExcelFile('https://www.bcra.gob.ar/Pdfs/PublicacionesEstadisticas/dep2014.xls')\n",
        "\n",
        "\n",
        "# Seleccionar la hoja que se quiere utilizar del archivo. Ejemplo #df = pd.read_excel(xls, 'Sheet2').\n",
        "\n",
        "data_2021 = pd.read_excel(xls_2021, 'Sector_privado')\n",
        "data_2020 = pd.read_excel(xls_2020, 'Sector_privado')\n",
        "data_2019 = pd.read_excel(xls_2019, 'Sector_privado')\n",
        "data_2018 = pd.read_excel(xls_2018, 'Sector_privado')\n",
        "data_2017 = pd.read_excel(xls_2017, 'Sector_privado')\n",
        "data_2016 = pd.read_excel(xls_2016, 'Sector_privado')\n",
        "data_2015 = pd.read_excel(xls_2015, 'Sector_privado')\n",
        "data_2014 = pd.read_excel(xls_2014, 'Sector_privado')\n"
      ],
      "execution_count": 4,
      "outputs": []
    },
    {
      "cell_type": "code",
      "metadata": {
        "id": "WE-x29cq--vy",
        "colab": {
          "base_uri": "https://localhost:8080/"
        },
        "outputId": "f4bf560c-4df7-4305-a1f0-bb38e07108ab"
      },
      "source": [
        "for item in range(2014,2022):\n",
        "  print(f\"data_{item}\")"
      ],
      "execution_count": 5,
      "outputs": [
        {
          "output_type": "stream",
          "name": "stdout",
          "text": [
            "data_2014\n",
            "data_2015\n",
            "data_2016\n",
            "data_2017\n",
            "data_2018\n",
            "data_2019\n",
            "data_2020\n",
            "data_2021\n"
          ]
        }
      ]
    },
    {
      "cell_type": "markdown",
      "metadata": {
        "id": "l4wNmEWAKrgT"
      },
      "source": [
        "#### Clean Data"
      ]
    },
    {
      "cell_type": "code",
      "metadata": {
        "colab": {
          "base_uri": "https://localhost:8080/",
          "height": 171
        },
        "id": "CEt0BCgfn0-Q",
        "outputId": "41b4be35-b76c-4df9-efab-8b6fdced5036"
      },
      "source": [
        "# Crear un diccionario con los nombres de la fila 24. Luego se usara para renombrar las columnas.\n",
        "dict(data_2021.loc[24])\n",
        "# Renombrar las columnas con los nombres de la linea 24.\n",
        "data_2021 = data_2021.rename(columns=dict(data_2021.loc[24]))\n",
        "# Mostrar los ultimos 5 valores.\n",
        "#data_2020.tail()\n",
        "\n",
        "# Seleccionar las columnas que nos interesa mostrar.\n",
        "cols_to_subset = ['dep000','deppri097']\n",
        "data_2021[cols_to_subset]\n",
        "df_2021 = data_2021[cols_to_subset]\n",
        "#df_2020.tail()\n",
        "\n",
        "# Mostrar datos solo a partir de la fila 25 que es la primer fecha ( 2 de enero 2020 )\n",
        "df_2021 = df_2021.loc[25:]\n",
        "df_2021.tail(4)"
      ],
      "execution_count": 6,
      "outputs": [
        {
          "output_type": "execute_result",
          "data": {
            "text/html": [
              "<div>\n",
              "<style scoped>\n",
              "    .dataframe tbody tr th:only-of-type {\n",
              "        vertical-align: middle;\n",
              "    }\n",
              "\n",
              "    .dataframe tbody tr th {\n",
              "        vertical-align: top;\n",
              "    }\n",
              "\n",
              "    .dataframe thead th {\n",
              "        text-align: right;\n",
              "    }\n",
              "</style>\n",
              "<table border=\"1\" class=\"dataframe\">\n",
              "  <thead>\n",
              "    <tr style=\"text-align: right;\">\n",
              "      <th></th>\n",
              "      <th>dep000</th>\n",
              "      <th>deppri097</th>\n",
              "    </tr>\n",
              "  </thead>\n",
              "  <tbody>\n",
              "    <tr>\n",
              "      <th>188</th>\n",
              "      <td>20210902</td>\n",
              "      <td>16404</td>\n",
              "    </tr>\n",
              "    <tr>\n",
              "      <th>189</th>\n",
              "      <td>20210903</td>\n",
              "      <td>16368</td>\n",
              "    </tr>\n",
              "    <tr>\n",
              "      <th>190</th>\n",
              "      <td>20210906</td>\n",
              "      <td>16415</td>\n",
              "    </tr>\n",
              "    <tr>\n",
              "      <th>191</th>\n",
              "      <td>NaN</td>\n",
              "      <td>NaN</td>\n",
              "    </tr>\n",
              "  </tbody>\n",
              "</table>\n",
              "</div>"
            ],
            "text/plain": [
              "       dep000 deppri097\n",
              "188  20210902     16404\n",
              "189  20210903     16368\n",
              "190  20210906     16415\n",
              "191       NaN       NaN"
            ]
          },
          "metadata": {},
          "execution_count": 6
        }
      ]
    },
    {
      "cell_type": "code",
      "metadata": {
        "id": "yVVwqG6ztNNz",
        "colab": {
          "base_uri": "https://localhost:8080/",
          "height": 110
        },
        "outputId": "51ba1d6b-b1c1-4399-bc39-f8fbcb1cf170"
      },
      "source": [
        "# Crear un diccionario con los nombres de la fila 24. Luego se usara para renombrar las columnas.\n",
        "dict(data_2020.loc[24])\n",
        "# Renombrar las columnas con los nombres de la linea 24.\n",
        "data_2020 = data_2020.rename(columns=dict(data_2020.loc[24]))\n",
        "# Mostrar los ultimos 5 valores.\n",
        "#data_2020.tail()\n",
        "\n",
        "# Seleccionar las columnas que nos interesa mostrar.\n",
        "cols_to_subset = ['dep000','deppri097']\n",
        "data_2020[cols_to_subset]\n",
        "df_2020 = data_2020[cols_to_subset]\n",
        "#df_2020.tail()\n",
        "\n",
        "# Mostrar datos solo a partir de la fila 25 que es la primer fecha ( 2 de enero 2020 )\n",
        "df_2020 = df_2020.loc[25:]\n",
        "df_2020.head(2)"
      ],
      "execution_count": 7,
      "outputs": [
        {
          "output_type": "execute_result",
          "data": {
            "text/html": [
              "<div>\n",
              "<style scoped>\n",
              "    .dataframe tbody tr th:only-of-type {\n",
              "        vertical-align: middle;\n",
              "    }\n",
              "\n",
              "    .dataframe tbody tr th {\n",
              "        vertical-align: top;\n",
              "    }\n",
              "\n",
              "    .dataframe thead th {\n",
              "        text-align: right;\n",
              "    }\n",
              "</style>\n",
              "<table border=\"1\" class=\"dataframe\">\n",
              "  <thead>\n",
              "    <tr style=\"text-align: right;\">\n",
              "      <th></th>\n",
              "      <th>dep000</th>\n",
              "      <th>deppri097</th>\n",
              "    </tr>\n",
              "  </thead>\n",
              "  <tbody>\n",
              "    <tr>\n",
              "      <th>25</th>\n",
              "      <td>20200102</td>\n",
              "      <td>19418</td>\n",
              "    </tr>\n",
              "    <tr>\n",
              "      <th>26</th>\n",
              "      <td>20200103</td>\n",
              "      <td>19357</td>\n",
              "    </tr>\n",
              "  </tbody>\n",
              "</table>\n",
              "</div>"
            ],
            "text/plain": [
              "      dep000 deppri097\n",
              "25  20200102     19418\n",
              "26  20200103     19357"
            ]
          },
          "metadata": {},
          "execution_count": 7
        }
      ]
    },
    {
      "cell_type": "code",
      "metadata": {
        "id": "aRJGakphk77s"
      },
      "source": [
        "# Una funcion que limpie todo de forma mas rapido!\n",
        "\n",
        "#def clean(file):\n",
        "#  '''Rename the columns with the names of line 24. \n",
        "#  Select the columns that we are interested in showing. \n",
        "#  Show data only from row 25 which is the first date (first business day of each year)\n",
        "#  Arguments:\n",
        "#      A variable\n",
        "#  '''\n",
        "#  file = file.rename(columns=dict(file.loc[24]))\n",
        "#  cols_to_subset = ['dep000','deppri097']\n",
        "#  file[cols_to_subset]\n",
        "#  file = file[cols_to_subset]\n",
        "#  file = file.loc[25:]\n",
        "#  return file.head()"
      ],
      "execution_count": 8,
      "outputs": []
    },
    {
      "cell_type": "code",
      "metadata": {
        "id": "_Yi1TGrWs7zd",
        "colab": {
          "base_uri": "https://localhost:8080/",
          "height": 110
        },
        "outputId": "69887a71-5fcd-483e-a3a7-56526c20a298"
      },
      "source": [
        "# Crear un diccionario con los nombres de la fila 24. Luego lo usara para renombrar las columnas.\n",
        "dict(data_2019.loc[24])\n",
        "# Renombrar las columnas con los nombres de la linea 24.\n",
        "data_2019 = data_2019.rename(columns=dict(data_2019.loc[24]))\n",
        "# Mostrar los ultimos 5 valores.\n",
        "#data_2019.tail()\n",
        "\n",
        "# Seleccionar las columnas que me interesan.\n",
        "cols_to_subset = ['dep000','deppri097']\n",
        "data_2019[cols_to_subset]\n",
        "df_2019 = data_2019[cols_to_subset]\n",
        "#df_2019.tail()\n",
        "\n",
        "# Mostrar datos solo a partir de la fila 25 que es la primer fecha ( 2 de enero 2019 )\n",
        "df_2019 = df_2019.loc[25:]\n",
        "df_2019.head(2)"
      ],
      "execution_count": 9,
      "outputs": [
        {
          "output_type": "execute_result",
          "data": {
            "text/html": [
              "<div>\n",
              "<style scoped>\n",
              "    .dataframe tbody tr th:only-of-type {\n",
              "        vertical-align: middle;\n",
              "    }\n",
              "\n",
              "    .dataframe tbody tr th {\n",
              "        vertical-align: top;\n",
              "    }\n",
              "\n",
              "    .dataframe thead th {\n",
              "        text-align: right;\n",
              "    }\n",
              "</style>\n",
              "<table border=\"1\" class=\"dataframe\">\n",
              "  <thead>\n",
              "    <tr style=\"text-align: right;\">\n",
              "      <th></th>\n",
              "      <th>dep000</th>\n",
              "      <th>deppri097</th>\n",
              "    </tr>\n",
              "  </thead>\n",
              "  <tbody>\n",
              "    <tr>\n",
              "      <th>25</th>\n",
              "      <td>20190102</td>\n",
              "      <td>29104</td>\n",
              "    </tr>\n",
              "    <tr>\n",
              "      <th>26</th>\n",
              "      <td>20190103</td>\n",
              "      <td>29162</td>\n",
              "    </tr>\n",
              "  </tbody>\n",
              "</table>\n",
              "</div>"
            ],
            "text/plain": [
              "      dep000 deppri097\n",
              "25  20190102     29104\n",
              "26  20190103     29162"
            ]
          },
          "metadata": {},
          "execution_count": 9
        }
      ]
    },
    {
      "cell_type": "code",
      "metadata": {
        "id": "HJ_MbEhws794",
        "colab": {
          "base_uri": "https://localhost:8080/",
          "height": 110
        },
        "outputId": "670315d5-99c0-4534-f275-fced2a06dd22"
      },
      "source": [
        "# Crear un diccionario con los nombres de la fila 24. Luego lo usare para renombrar las columnas.\n",
        "dict(data_2018.loc[24])\n",
        "# Renombrar las columnas con los nombres de la linea 24\n",
        "data_2018 = data_2018.rename(columns=dict(data_2018.loc[24]))\n",
        "# Mostrar los ultimos 5 valores\n",
        "#data_2018.tail()\n",
        "\n",
        "# Seleccionar las columnas que me interesan.\n",
        "cols_to_subset = ['dep000','deppri097']\n",
        "data_2018[cols_to_subset]\n",
        "df_2018 = data_2018[cols_to_subset]\n",
        "#df_2018.tail()\n",
        "\n",
        "# Mostrar datos solo a partir de la fila 25 que es la primer fecha ( 2 de enero 2018 )\n",
        "df_2018 = df_2018.loc[25:]\n",
        "df_2018.head(2)"
      ],
      "execution_count": 10,
      "outputs": [
        {
          "output_type": "execute_result",
          "data": {
            "text/html": [
              "<div>\n",
              "<style scoped>\n",
              "    .dataframe tbody tr th:only-of-type {\n",
              "        vertical-align: middle;\n",
              "    }\n",
              "\n",
              "    .dataframe tbody tr th {\n",
              "        vertical-align: top;\n",
              "    }\n",
              "\n",
              "    .dataframe thead th {\n",
              "        text-align: right;\n",
              "    }\n",
              "</style>\n",
              "<table border=\"1\" class=\"dataframe\">\n",
              "  <thead>\n",
              "    <tr style=\"text-align: right;\">\n",
              "      <th></th>\n",
              "      <th>dep000</th>\n",
              "      <th>deppri097</th>\n",
              "    </tr>\n",
              "  </thead>\n",
              "  <tbody>\n",
              "    <tr>\n",
              "      <th>25</th>\n",
              "      <td>20180102</td>\n",
              "      <td>26643</td>\n",
              "    </tr>\n",
              "    <tr>\n",
              "      <th>26</th>\n",
              "      <td>20180103</td>\n",
              "      <td>26562</td>\n",
              "    </tr>\n",
              "  </tbody>\n",
              "</table>\n",
              "</div>"
            ],
            "text/plain": [
              "      dep000 deppri097\n",
              "25  20180102     26643\n",
              "26  20180103     26562"
            ]
          },
          "metadata": {},
          "execution_count": 10
        }
      ]
    },
    {
      "cell_type": "code",
      "metadata": {
        "id": "E56MGOC2s8JJ",
        "colab": {
          "base_uri": "https://localhost:8080/",
          "height": 110
        },
        "outputId": "2757a262-b227-466a-e2f1-5932e9d54b56"
      },
      "source": [
        "# Crear un diccionario con los nombres de la fila 24. Luego lo usare para renombrar las columnas.\n",
        "dict(data_2017.loc[24])\n",
        "# Renombrar las columnas con los nombres de la linea 24\n",
        "data_2017 = data_2017.rename(columns=dict(data_2017.loc[24]))\n",
        "# Mostrar los ultimos 5 valores\n",
        "#data_2017.tail()\n",
        "\n",
        "# Seleccionar las columnas que me interesan.\n",
        "cols_to_subset = ['dep000','deppri097']\n",
        "data_2017[cols_to_subset]\n",
        "df_2017 = data_2017[cols_to_subset]\n",
        "#df_2017.tail()\n",
        "\n",
        "# Mostrar datos solo a partir de la fila 25 que es la primer fecha ( 2 de enero 2017 )\n",
        "df_2017 = df_2017.loc[25:]\n",
        "df_2017.head(2)"
      ],
      "execution_count": 11,
      "outputs": [
        {
          "output_type": "execute_result",
          "data": {
            "text/html": [
              "<div>\n",
              "<style scoped>\n",
              "    .dataframe tbody tr th:only-of-type {\n",
              "        vertical-align: middle;\n",
              "    }\n",
              "\n",
              "    .dataframe tbody tr th {\n",
              "        vertical-align: top;\n",
              "    }\n",
              "\n",
              "    .dataframe thead th {\n",
              "        text-align: right;\n",
              "    }\n",
              "</style>\n",
              "<table border=\"1\" class=\"dataframe\">\n",
              "  <thead>\n",
              "    <tr style=\"text-align: right;\">\n",
              "      <th></th>\n",
              "      <th>dep000</th>\n",
              "      <th>deppri097</th>\n",
              "    </tr>\n",
              "  </thead>\n",
              "  <tbody>\n",
              "    <tr>\n",
              "      <th>25</th>\n",
              "      <td>20170102</td>\n",
              "      <td>22623</td>\n",
              "    </tr>\n",
              "    <tr>\n",
              "      <th>26</th>\n",
              "      <td>20170103</td>\n",
              "      <td>22689</td>\n",
              "    </tr>\n",
              "  </tbody>\n",
              "</table>\n",
              "</div>"
            ],
            "text/plain": [
              "      dep000 deppri097\n",
              "25  20170102     22623\n",
              "26  20170103     22689"
            ]
          },
          "metadata": {},
          "execution_count": 11
        }
      ]
    },
    {
      "cell_type": "code",
      "metadata": {
        "id": "t_cRduxMs8UC",
        "colab": {
          "base_uri": "https://localhost:8080/",
          "height": 110
        },
        "outputId": "21ef0673-35b9-45ed-dbee-8ee43e09bcb6"
      },
      "source": [
        "# Crear un diccionario con los nombres de la fila 24. Luego lo usare para renombrar las columnas.\n",
        "dict(data_2016.loc[24])\n",
        "# Renombrar las columnas con los nombres de la linea 24\n",
        "data_2016 = data_2016.rename(columns=dict(data_2016.loc[24]))\n",
        "# Mostrar los ultimos 5 valores\n",
        "#data_2016.tail()\n",
        "\n",
        "# Seleccionar las columnas que me interesan.\n",
        "cols_to_subset = ['dep000','deppri097']\n",
        "data_2016[cols_to_subset]\n",
        "df_2016 = data_2016[cols_to_subset]\n",
        "#df_2016.tail()\n",
        "\n",
        "# Mostrar datos solo a partir de la fila 25 que es la primer fecha ( 4 de enero 2016 )\n",
        "df_2016 = df_2016.loc[25:]\n",
        "df_2016.head(2)"
      ],
      "execution_count": 12,
      "outputs": [
        {
          "output_type": "execute_result",
          "data": {
            "text/html": [
              "<div>\n",
              "<style scoped>\n",
              "    .dataframe tbody tr th:only-of-type {\n",
              "        vertical-align: middle;\n",
              "    }\n",
              "\n",
              "    .dataframe tbody tr th {\n",
              "        vertical-align: top;\n",
              "    }\n",
              "\n",
              "    .dataframe thead th {\n",
              "        text-align: right;\n",
              "    }\n",
              "</style>\n",
              "<table border=\"1\" class=\"dataframe\">\n",
              "  <thead>\n",
              "    <tr style=\"text-align: right;\">\n",
              "      <th></th>\n",
              "      <th>dep000</th>\n",
              "      <th>deppri097</th>\n",
              "    </tr>\n",
              "  </thead>\n",
              "  <tbody>\n",
              "    <tr>\n",
              "      <th>25</th>\n",
              "      <td>20160104</td>\n",
              "      <td>10767</td>\n",
              "    </tr>\n",
              "    <tr>\n",
              "      <th>26</th>\n",
              "      <td>20160105</td>\n",
              "      <td>10786</td>\n",
              "    </tr>\n",
              "  </tbody>\n",
              "</table>\n",
              "</div>"
            ],
            "text/plain": [
              "      dep000 deppri097\n",
              "25  20160104     10767\n",
              "26  20160105     10786"
            ]
          },
          "metadata": {},
          "execution_count": 12
        }
      ]
    },
    {
      "cell_type": "code",
      "metadata": {
        "id": "aY-uCe5ds9h_",
        "colab": {
          "base_uri": "https://localhost:8080/",
          "height": 110
        },
        "outputId": "762350dc-9877-45e6-e7fc-b38443504e27"
      },
      "source": [
        "# Crear un diccionario con los nombres de la fila 24. Luego lo usare para renombrar las columnas.\n",
        "dict(data_2015.loc[24])\n",
        "# Renombrar las columnas con los nombres de la linea 24\n",
        "data_2015 = data_2015.rename(columns=dict(data_2015.loc[24]))\n",
        "# Mostrar los ultimos 5 valores\n",
        "#data_2015.tail()\n",
        "\n",
        "# Seleccionar las columnas que me interesan.\n",
        "cols_to_subset = ['dep000','deppri097']\n",
        "data_2015[cols_to_subset]\n",
        "df_2015 = data_2015[cols_to_subset]\n",
        "#df_2015.tail()\n",
        "\n",
        "# Mostrar datos solo a partir de la fila 25 que es la primer fecha ( 2 de enero 2015 )\n",
        "df_2015 = df_2015.loc[25:]\n",
        "df_2015.head(2)"
      ],
      "execution_count": 13,
      "outputs": [
        {
          "output_type": "execute_result",
          "data": {
            "text/html": [
              "<div>\n",
              "<style scoped>\n",
              "    .dataframe tbody tr th:only-of-type {\n",
              "        vertical-align: middle;\n",
              "    }\n",
              "\n",
              "    .dataframe tbody tr th {\n",
              "        vertical-align: top;\n",
              "    }\n",
              "\n",
              "    .dataframe thead th {\n",
              "        text-align: right;\n",
              "    }\n",
              "</style>\n",
              "<table border=\"1\" class=\"dataframe\">\n",
              "  <thead>\n",
              "    <tr style=\"text-align: right;\">\n",
              "      <th></th>\n",
              "      <th>dep000</th>\n",
              "      <th>deppri097</th>\n",
              "    </tr>\n",
              "  </thead>\n",
              "  <tbody>\n",
              "    <tr>\n",
              "      <th>25</th>\n",
              "      <td>20150102</td>\n",
              "      <td>7503</td>\n",
              "    </tr>\n",
              "    <tr>\n",
              "      <th>26</th>\n",
              "      <td>20150105</td>\n",
              "      <td>7518</td>\n",
              "    </tr>\n",
              "  </tbody>\n",
              "</table>\n",
              "</div>"
            ],
            "text/plain": [
              "      dep000 deppri097\n",
              "25  20150102      7503\n",
              "26  20150105      7518"
            ]
          },
          "metadata": {},
          "execution_count": 13
        }
      ]
    },
    {
      "cell_type": "code",
      "metadata": {
        "id": "Rvv0vmJ6s9sx",
        "colab": {
          "base_uri": "https://localhost:8080/",
          "height": 110
        },
        "outputId": "893ba1e4-2dd5-4ecb-ce32-f28e91c7a4af"
      },
      "source": [
        "# Crear un diccionario con los nombres de la fila 24. Luego lo usare para renombrar las columnas.\n",
        "dict(data_2014.loc[24])\n",
        "# Renombrar las columnas con los nombres de la linea 24\n",
        "data_2014 = data_2014.rename(columns=dict(data_2014.loc[24]))\n",
        "# Mostrar los ultimos 5 valores\n",
        "#data_2014.tail()\n",
        "\n",
        "# Seleccionar las columnas que me interesan.\n",
        "cols_to_subset = ['dep000','deppri097']\n",
        "data_2014[cols_to_subset]\n",
        "df_2014 = data_2014[cols_to_subset]\n",
        "#df_2014.tail()\n",
        "\n",
        "# Mostrar datos solo a partir de la fila 25 que es la primer fecha ( 2 de enero 2014 )\n",
        "df_2014 = df_2014.loc[25:]\n",
        "df_2014.head(2)"
      ],
      "execution_count": 14,
      "outputs": [
        {
          "output_type": "execute_result",
          "data": {
            "text/html": [
              "<div>\n",
              "<style scoped>\n",
              "    .dataframe tbody tr th:only-of-type {\n",
              "        vertical-align: middle;\n",
              "    }\n",
              "\n",
              "    .dataframe tbody tr th {\n",
              "        vertical-align: top;\n",
              "    }\n",
              "\n",
              "    .dataframe thead th {\n",
              "        text-align: right;\n",
              "    }\n",
              "</style>\n",
              "<table border=\"1\" class=\"dataframe\">\n",
              "  <thead>\n",
              "    <tr style=\"text-align: right;\">\n",
              "      <th></th>\n",
              "      <th>dep000</th>\n",
              "      <th>deppri097</th>\n",
              "    </tr>\n",
              "  </thead>\n",
              "  <tbody>\n",
              "    <tr>\n",
              "      <th>25</th>\n",
              "      <td>20140102</td>\n",
              "      <td>6986</td>\n",
              "    </tr>\n",
              "    <tr>\n",
              "      <th>26</th>\n",
              "      <td>20140103</td>\n",
              "      <td>6965</td>\n",
              "    </tr>\n",
              "  </tbody>\n",
              "</table>\n",
              "</div>"
            ],
            "text/plain": [
              "      dep000 deppri097\n",
              "25  20140102      6986\n",
              "26  20140103      6965"
            ]
          },
          "metadata": {},
          "execution_count": 14
        }
      ]
    },
    {
      "cell_type": "code",
      "metadata": {
        "id": "sLz1gt30pnTD",
        "colab": {
          "base_uri": "https://localhost:8080/",
          "height": 414
        },
        "outputId": "b70ecb29-1e51-47a0-b377-a2859a7462db"
      },
      "source": [
        "# Merge the 8 years into a single file.\n",
        "\n",
        "files = [df_2014 , df_2015, df_2016, df_2017, df_2018, df_2019, df_2020, df_2021]\n",
        "#files\n",
        "\n",
        "all_years_data = pd.concat(files)\n",
        "all_years_data"
      ],
      "execution_count": 15,
      "outputs": [
        {
          "output_type": "execute_result",
          "data": {
            "text/html": [
              "<div>\n",
              "<style scoped>\n",
              "    .dataframe tbody tr th:only-of-type {\n",
              "        vertical-align: middle;\n",
              "    }\n",
              "\n",
              "    .dataframe tbody tr th {\n",
              "        vertical-align: top;\n",
              "    }\n",
              "\n",
              "    .dataframe thead th {\n",
              "        text-align: right;\n",
              "    }\n",
              "</style>\n",
              "<table border=\"1\" class=\"dataframe\">\n",
              "  <thead>\n",
              "    <tr style=\"text-align: right;\">\n",
              "      <th></th>\n",
              "      <th>dep000</th>\n",
              "      <th>deppri097</th>\n",
              "    </tr>\n",
              "  </thead>\n",
              "  <tbody>\n",
              "    <tr>\n",
              "      <th>25</th>\n",
              "      <td>20140102</td>\n",
              "      <td>6986</td>\n",
              "    </tr>\n",
              "    <tr>\n",
              "      <th>26</th>\n",
              "      <td>20140103</td>\n",
              "      <td>6965</td>\n",
              "    </tr>\n",
              "    <tr>\n",
              "      <th>27</th>\n",
              "      <td>20140106</td>\n",
              "      <td>6968</td>\n",
              "    </tr>\n",
              "    <tr>\n",
              "      <th>28</th>\n",
              "      <td>20140107</td>\n",
              "      <td>6979</td>\n",
              "    </tr>\n",
              "    <tr>\n",
              "      <th>29</th>\n",
              "      <td>20140108</td>\n",
              "      <td>6953</td>\n",
              "    </tr>\n",
              "    <tr>\n",
              "      <th>...</th>\n",
              "      <td>...</td>\n",
              "      <td>...</td>\n",
              "    </tr>\n",
              "    <tr>\n",
              "      <th>187</th>\n",
              "      <td>20210901</td>\n",
              "      <td>16542</td>\n",
              "    </tr>\n",
              "    <tr>\n",
              "      <th>188</th>\n",
              "      <td>20210902</td>\n",
              "      <td>16404</td>\n",
              "    </tr>\n",
              "    <tr>\n",
              "      <th>189</th>\n",
              "      <td>20210903</td>\n",
              "      <td>16368</td>\n",
              "    </tr>\n",
              "    <tr>\n",
              "      <th>190</th>\n",
              "      <td>20210906</td>\n",
              "      <td>16415</td>\n",
              "    </tr>\n",
              "    <tr>\n",
              "      <th>191</th>\n",
              "      <td>NaN</td>\n",
              "      <td>NaN</td>\n",
              "    </tr>\n",
              "  </tbody>\n",
              "</table>\n",
              "<p>1871 rows × 2 columns</p>\n",
              "</div>"
            ],
            "text/plain": [
              "       dep000 deppri097\n",
              "25   20140102      6986\n",
              "26   20140103      6965\n",
              "27   20140106      6968\n",
              "28   20140107      6979\n",
              "29   20140108      6953\n",
              "..        ...       ...\n",
              "187  20210901     16542\n",
              "188  20210902     16404\n",
              "189  20210903     16368\n",
              "190  20210906     16415\n",
              "191       NaN       NaN\n",
              "\n",
              "[1871 rows x 2 columns]"
            ]
          },
          "metadata": {},
          "execution_count": 15
        }
      ]
    },
    {
      "cell_type": "code",
      "metadata": {
        "id": "2LMUcWSZ2aAH",
        "colab": {
          "base_uri": "https://localhost:8080/",
          "height": 141
        },
        "outputId": "eb99beb1-94f0-4ab6-b554-dd6197402345"
      },
      "source": [
        "# Renombrar las columnas\n",
        "all_years_data = all_years_data.rename(columns={'dep000': 'DATE', 'deppri097': 'DEPOSITOS PRIVADOS'})\n",
        "all_years_data.head(3)"
      ],
      "execution_count": 16,
      "outputs": [
        {
          "output_type": "execute_result",
          "data": {
            "text/html": [
              "<div>\n",
              "<style scoped>\n",
              "    .dataframe tbody tr th:only-of-type {\n",
              "        vertical-align: middle;\n",
              "    }\n",
              "\n",
              "    .dataframe tbody tr th {\n",
              "        vertical-align: top;\n",
              "    }\n",
              "\n",
              "    .dataframe thead th {\n",
              "        text-align: right;\n",
              "    }\n",
              "</style>\n",
              "<table border=\"1\" class=\"dataframe\">\n",
              "  <thead>\n",
              "    <tr style=\"text-align: right;\">\n",
              "      <th></th>\n",
              "      <th>DATE</th>\n",
              "      <th>DEPOSITOS PRIVADOS</th>\n",
              "    </tr>\n",
              "  </thead>\n",
              "  <tbody>\n",
              "    <tr>\n",
              "      <th>25</th>\n",
              "      <td>20140102</td>\n",
              "      <td>6986</td>\n",
              "    </tr>\n",
              "    <tr>\n",
              "      <th>26</th>\n",
              "      <td>20140103</td>\n",
              "      <td>6965</td>\n",
              "    </tr>\n",
              "    <tr>\n",
              "      <th>27</th>\n",
              "      <td>20140106</td>\n",
              "      <td>6968</td>\n",
              "    </tr>\n",
              "  </tbody>\n",
              "</table>\n",
              "</div>"
            ],
            "text/plain": [
              "        DATE DEPOSITOS PRIVADOS\n",
              "25  20140102               6986\n",
              "26  20140103               6965\n",
              "27  20140106               6968"
            ]
          },
          "metadata": {},
          "execution_count": 16
        }
      ]
    },
    {
      "cell_type": "code",
      "metadata": {
        "id": "Su-JUr4X2vo9"
      },
      "source": [
        "# Crear dos nuevas columnas con la diferencia diaria entre los valores de Dolares Privados y la diferencia porcentual.\n",
        "\n",
        "all_years_data['VARIACION'] = all_years_data['DEPOSITOS PRIVADOS'].diff(1)\n",
        "all_years_data['VARIACION PCT'] = all_years_data['DEPOSITOS PRIVADOS'].pct_change(1)*100\n",
        "#all_years_data.info()"
      ],
      "execution_count": 17,
      "outputs": []
    },
    {
      "cell_type": "code",
      "metadata": {
        "id": "Z1Ze4I1p3s3s"
      },
      "source": [
        "# Convertir las columnas 'DEPOSITOS PRIVADOS' y 'VARIACION' de object a float.\n",
        "\n",
        "all_years_data[\"DEPOSITOS PRIVADOS\"] = pd.to_numeric(all_years_data[\"DEPOSITOS PRIVADOS\"])\n",
        "all_years_data[\"VARIACION\"] = pd.to_numeric(all_years_data[\"VARIACION\"])\n",
        "\n",
        "# Convertir la columna 'DATE' de object a datetime\n",
        " \n",
        "all_years_data['DATE'] = pd.to_datetime(all_years_data['DATE'], format='%Y%m%d')\n",
        "#all_years_data.tail()\n",
        "#all_years_data.info()"
      ],
      "execution_count": 18,
      "outputs": []
    },
    {
      "cell_type": "code",
      "metadata": {
        "id": "rvuzuxiM8l2R",
        "colab": {
          "base_uri": "https://localhost:8080/",
          "height": 232
        },
        "outputId": "f865736a-d954-4b89-a1e3-997e37e83bdf"
      },
      "source": [
        "# Set Index\n",
        " \n",
        "all_years_data_ind = all_years_data.set_index('DATE')\n",
        "#all_years_data_ind.head()\n",
        "all_years_data_ind.tail()"
      ],
      "execution_count": 19,
      "outputs": [
        {
          "output_type": "execute_result",
          "data": {
            "text/html": [
              "<div>\n",
              "<style scoped>\n",
              "    .dataframe tbody tr th:only-of-type {\n",
              "        vertical-align: middle;\n",
              "    }\n",
              "\n",
              "    .dataframe tbody tr th {\n",
              "        vertical-align: top;\n",
              "    }\n",
              "\n",
              "    .dataframe thead th {\n",
              "        text-align: right;\n",
              "    }\n",
              "</style>\n",
              "<table border=\"1\" class=\"dataframe\">\n",
              "  <thead>\n",
              "    <tr style=\"text-align: right;\">\n",
              "      <th></th>\n",
              "      <th>DEPOSITOS PRIVADOS</th>\n",
              "      <th>VARIACION</th>\n",
              "      <th>VARIACION PCT</th>\n",
              "    </tr>\n",
              "    <tr>\n",
              "      <th>DATE</th>\n",
              "      <th></th>\n",
              "      <th></th>\n",
              "      <th></th>\n",
              "    </tr>\n",
              "  </thead>\n",
              "  <tbody>\n",
              "    <tr>\n",
              "      <th>2021-09-01</th>\n",
              "      <td>16542.0</td>\n",
              "      <td>89.0</td>\n",
              "      <td>0.540935</td>\n",
              "    </tr>\n",
              "    <tr>\n",
              "      <th>2021-09-02</th>\n",
              "      <td>16404.0</td>\n",
              "      <td>-138.0</td>\n",
              "      <td>-0.834240</td>\n",
              "    </tr>\n",
              "    <tr>\n",
              "      <th>2021-09-03</th>\n",
              "      <td>16368.0</td>\n",
              "      <td>-36.0</td>\n",
              "      <td>-0.219459</td>\n",
              "    </tr>\n",
              "    <tr>\n",
              "      <th>2021-09-06</th>\n",
              "      <td>16415.0</td>\n",
              "      <td>47.0</td>\n",
              "      <td>0.287146</td>\n",
              "    </tr>\n",
              "    <tr>\n",
              "      <th>NaT</th>\n",
              "      <td>NaN</td>\n",
              "      <td>NaN</td>\n",
              "      <td>0.000000</td>\n",
              "    </tr>\n",
              "  </tbody>\n",
              "</table>\n",
              "</div>"
            ],
            "text/plain": [
              "            DEPOSITOS PRIVADOS  VARIACION  VARIACION PCT\n",
              "DATE                                                    \n",
              "2021-09-01             16542.0       89.0       0.540935\n",
              "2021-09-02             16404.0     -138.0      -0.834240\n",
              "2021-09-03             16368.0      -36.0      -0.219459\n",
              "2021-09-06             16415.0       47.0       0.287146\n",
              "NaT                        NaN        NaN       0.000000"
            ]
          },
          "metadata": {},
          "execution_count": 19
        }
      ]
    },
    {
      "cell_type": "markdown",
      "metadata": {
        "id": "5Tl8CGmQO3qw"
      },
      "source": [
        "#### Cuadros y Graficos"
      ]
    },
    {
      "cell_type": "code",
      "metadata": {
        "id": "zZUJBF8QOWfO",
        "colab": {
          "base_uri": "https://localhost:8080/",
          "height": 386
        },
        "outputId": "8a2550c2-308d-468c-c722-aa985b1bdb0b"
      },
      "source": [
        "# DEPOSITOS PRIVADOS EN DOLARES ULTIMOS OCHO DIAS\n",
        "\n",
        "all_years_data_ind.tail(10)"
      ],
      "execution_count": 20,
      "outputs": [
        {
          "output_type": "execute_result",
          "data": {
            "text/html": [
              "<div>\n",
              "<style scoped>\n",
              "    .dataframe tbody tr th:only-of-type {\n",
              "        vertical-align: middle;\n",
              "    }\n",
              "\n",
              "    .dataframe tbody tr th {\n",
              "        vertical-align: top;\n",
              "    }\n",
              "\n",
              "    .dataframe thead th {\n",
              "        text-align: right;\n",
              "    }\n",
              "</style>\n",
              "<table border=\"1\" class=\"dataframe\">\n",
              "  <thead>\n",
              "    <tr style=\"text-align: right;\">\n",
              "      <th></th>\n",
              "      <th>DEPOSITOS PRIVADOS</th>\n",
              "      <th>VARIACION</th>\n",
              "      <th>VARIACION PCT</th>\n",
              "    </tr>\n",
              "    <tr>\n",
              "      <th>DATE</th>\n",
              "      <th></th>\n",
              "      <th></th>\n",
              "      <th></th>\n",
              "    </tr>\n",
              "  </thead>\n",
              "  <tbody>\n",
              "    <tr>\n",
              "      <th>2021-08-25</th>\n",
              "      <td>16409.0</td>\n",
              "      <td>-4.0</td>\n",
              "      <td>-0.024371</td>\n",
              "    </tr>\n",
              "    <tr>\n",
              "      <th>2021-08-26</th>\n",
              "      <td>16405.0</td>\n",
              "      <td>-4.0</td>\n",
              "      <td>-0.024377</td>\n",
              "    </tr>\n",
              "    <tr>\n",
              "      <th>2021-08-27</th>\n",
              "      <td>16367.0</td>\n",
              "      <td>-38.0</td>\n",
              "      <td>-0.231637</td>\n",
              "    </tr>\n",
              "    <tr>\n",
              "      <th>2021-08-30</th>\n",
              "      <td>16400.0</td>\n",
              "      <td>33.0</td>\n",
              "      <td>0.201625</td>\n",
              "    </tr>\n",
              "    <tr>\n",
              "      <th>2021-08-31</th>\n",
              "      <td>16453.0</td>\n",
              "      <td>53.0</td>\n",
              "      <td>0.323171</td>\n",
              "    </tr>\n",
              "    <tr>\n",
              "      <th>2021-09-01</th>\n",
              "      <td>16542.0</td>\n",
              "      <td>89.0</td>\n",
              "      <td>0.540935</td>\n",
              "    </tr>\n",
              "    <tr>\n",
              "      <th>2021-09-02</th>\n",
              "      <td>16404.0</td>\n",
              "      <td>-138.0</td>\n",
              "      <td>-0.834240</td>\n",
              "    </tr>\n",
              "    <tr>\n",
              "      <th>2021-09-03</th>\n",
              "      <td>16368.0</td>\n",
              "      <td>-36.0</td>\n",
              "      <td>-0.219459</td>\n",
              "    </tr>\n",
              "    <tr>\n",
              "      <th>2021-09-06</th>\n",
              "      <td>16415.0</td>\n",
              "      <td>47.0</td>\n",
              "      <td>0.287146</td>\n",
              "    </tr>\n",
              "    <tr>\n",
              "      <th>NaT</th>\n",
              "      <td>NaN</td>\n",
              "      <td>NaN</td>\n",
              "      <td>0.000000</td>\n",
              "    </tr>\n",
              "  </tbody>\n",
              "</table>\n",
              "</div>"
            ],
            "text/plain": [
              "            DEPOSITOS PRIVADOS  VARIACION  VARIACION PCT\n",
              "DATE                                                    \n",
              "2021-08-25             16409.0       -4.0      -0.024371\n",
              "2021-08-26             16405.0       -4.0      -0.024377\n",
              "2021-08-27             16367.0      -38.0      -0.231637\n",
              "2021-08-30             16400.0       33.0       0.201625\n",
              "2021-08-31             16453.0       53.0       0.323171\n",
              "2021-09-01             16542.0       89.0       0.540935\n",
              "2021-09-02             16404.0     -138.0      -0.834240\n",
              "2021-09-03             16368.0      -36.0      -0.219459\n",
              "2021-09-06             16415.0       47.0       0.287146\n",
              "NaT                        NaN        NaN       0.000000"
            ]
          },
          "metadata": {},
          "execution_count": 20
        }
      ]
    },
    {
      "cell_type": "code",
      "metadata": {
        "id": "XhBGGjAARsbw",
        "colab": {
          "base_uri": "https://localhost:8080/"
        },
        "outputId": "7b0d62a0-d0a2-4b22-ad87-08b59378e8db"
      },
      "source": [
        "sum = all_years_data_ind['VARIACION'].tail(46)\n",
        "print('A partir del 15 de Septiembre 2020 los ahorristas retiraron',sum.sum()*-1,'millones de dolares de los Bancos')\n",
        "print('El promedio diario es de',round(sum.mean()*-1,2),'millones de dolares')"
      ],
      "execution_count": 21,
      "outputs": [
        {
          "output_type": "stream",
          "name": "stdout",
          "text": [
            "A partir del 15 de Septiembre 2020 los ahorristas retiraron -178.0 millones de dolares de los Bancos\n",
            "El promedio diario es de -3.96 millones de dolares\n"
          ]
        }
      ]
    },
    {
      "cell_type": "code",
      "metadata": {
        "id": "9X_fgcZT7rII",
        "colab": {
          "base_uri": "https://localhost:8080/",
          "height": 376
        },
        "outputId": "ab30e3dc-7ecc-44da-8eea-fc7209f2d418"
      },
      "source": [
        "# GRAFICO\n",
        "#plt.style.use('fivethirtyeight')\n",
        "plt.style.use('seaborn')\n",
        "#plt.style.use('bmh')\n",
        "\n",
        "fig, ax = plt.subplots()\n",
        "\n",
        "ax.plot(all_years_data['DATE'], all_years_data['DEPOSITOS PRIVADOS'])\n",
        "ax.set_xlabel('Date')\n",
        "ax.set_ylabel('Millones de Dolares')\n",
        "ax.set_title('Depositos en dolares del sector privado en Argentina')\n",
        "\n",
        "#plt.axvline(dt.datetime(2017, 4, 12),c='g',ls=':')\n",
        "\n",
        "plt.axvline(dt.datetime(2019, 8, 12),c='red',ls=':')\n",
        "\n",
        "ax.annotate(\"2019-08-12 \\n Lunes Post PASO\",\n",
        "            xy=(dt.datetime(2018, 2, 1), 20500)) # Esta es la ubicacion en el grafico\n",
        "\n",
        "\n",
        "\n",
        "#plt.axvline(dt.datetime(2020, 9, 15),c='green',ls=':')\n",
        "\n",
        "#ax.annotate(\"2020-09-15 \\n Mayores restricciones \\n a la compra \\n de dolar solidario\",\n",
        "#            xy=(dt.datetime(2019, 6, 1), 7000)) # Esta es la ubicacion en el grafico\n",
        "\n",
        "\n",
        "\n",
        "plt.show()\n",
        "#2017-04-17"
      ],
      "execution_count": 22,
      "outputs": [
        {
          "output_type": "display_data",
          "data": {
            "image/png": "[encoded data removed]",
            "text/plain": [
              "<Figure size 576x396 with 1 Axes>"
            ]
          },
          "metadata": {}
        }
      ]
    },
    {
      "cell_type": "code",
      "metadata": {
        "id": "dRswwWDOGq0D",
        "colab": {
          "base_uri": "https://localhost:8080/",
          "height": 376
        },
        "outputId": "5b8079a5-e1fb-4418-d2d9-346cb1f2286f"
      },
      "source": [
        "# ZOOM 2020\n",
        "veinte_veinte = all_years_data[all_years_data['DATE']>'2020-01-01']\n",
        "\n",
        "# GRAFICO\n",
        "plt.style.use('seaborn')\n",
        "#plt.style.use('fivethirtyeight')\n",
        "#plt.style.use('bmh')\n",
        "fig, ax = plt.subplots()\n",
        "\n",
        "ax.plot(veinte_veinte['DATE'], veinte_veinte['DEPOSITOS PRIVADOS'])\n",
        "ax.set_xlabel('Date')\n",
        "ax.set_ylabel('Millones de Dolares')\n",
        "ax.set_title('Depositos en dolares del sector privado en Argentina 2020')\n",
        "\n",
        "plt.axvline(dt.datetime(2020, 9, 15),c='green',ls=':')\n",
        "\n",
        "ax.annotate(\"2020-09-15 \\n Mayores restricciones \\n a la compra \\n de dolar solidario\",\n",
        "            xy=(dt.datetime(2020, 7, 1), 17500)) # Esta es la ubicacion en el grafico\n",
        "\n",
        "\n",
        "#plt.axvline(dt.datetime(2019, 8, 12),c='red',ls=':')\n",
        "\n",
        "#plt.axvline(dt.datetime(2017, 4, 12),c='g',ls=':')\n",
        "\n",
        "#ax.annotate(\"2019-08-12 Lunes Post PASO\",\n",
        "#            xy=(dt.datetime(2017, 5, 1), 12000)) # Esta es la ubicacion en el grafico\n",
        "\n",
        "plt.show()\n",
        "\n"
      ],
      "execution_count": 23,
      "outputs": [
        {
          "output_type": "display_data",
          "data": {
            "image/png": "[encoded data removed]",
            "text/plain": [
              "<Figure size 576x396 with 1 Axes>"
            ]
          },
          "metadata": {}
        }
      ]
    },
    {
      "cell_type": "code",
      "metadata": {
        "id": "rZTwVgj0VvkP",
        "colab": {
          "base_uri": "https://localhost:8080/",
          "height": 376
        },
        "outputId": "0cd64b8a-17fa-44d4-8a1b-7d7ddbffa775"
      },
      "source": [
        "# GRAFICO VARIACION DIARIA\n",
        "# Grafico de barras con condicional para el color ( verde >= 0, rojo < 0)\n",
        "\n",
        "#plt.figure(figsize=(20,7))\n",
        "\n",
        "plt.style.use('seaborn')\n",
        "\n",
        "fig, ax = plt.subplots()\n",
        "\n",
        "ax.bar(veinte_veinte['DATE'], veinte_veinte['VARIACION'])\n",
        "for bar in ax.patches:\n",
        "    if bar.get_height() >= 0:\n",
        "        bar.set_color('green')    \n",
        "    else:\n",
        "        bar.set_color('red')\n",
        "\n",
        "ax.set_xlabel('Date')\n",
        "ax.set_ylabel('Millones de Dolares')\n",
        "ax.set_title('2020: Depositos y Retiros de dolares')\n",
        "\n",
        "plt.show()"
      ],
      "execution_count": 24,
      "outputs": [
        {
          "output_type": "display_data",
          "data": {
            "image/png": "[encoded data removed]",
            "text/plain": [
              "<Figure size 576x396 with 1 Axes>"
            ]
          },
          "metadata": {}
        }
      ]
    },
    {
      "cell_type": "code",
      "metadata": {
        "id": "Vo3Ljg6XWKnm",
        "colab": {
          "base_uri": "https://localhost:8080/",
          "height": 294
        },
        "outputId": "e947a4d8-2291-406c-ab6a-4df32ff53f75"
      },
      "source": [
        "# brief descriptive coefficients\n",
        "\n",
        "all_years_data_ind[['DEPOSITOS PRIVADOS']].describe()"
      ],
      "execution_count": 25,
      "outputs": [
        {
          "output_type": "execute_result",
          "data": {
            "text/html": [
              "<div>\n",
              "<style scoped>\n",
              "    .dataframe tbody tr th:only-of-type {\n",
              "        vertical-align: middle;\n",
              "    }\n",
              "\n",
              "    .dataframe tbody tr th {\n",
              "        vertical-align: top;\n",
              "    }\n",
              "\n",
              "    .dataframe thead th {\n",
              "        text-align: right;\n",
              "    }\n",
              "</style>\n",
              "<table border=\"1\" class=\"dataframe\">\n",
              "  <thead>\n",
              "    <tr style=\"text-align: right;\">\n",
              "      <th></th>\n",
              "      <th>DEPOSITOS PRIVADOS</th>\n",
              "    </tr>\n",
              "  </thead>\n",
              "  <tbody>\n",
              "    <tr>\n",
              "      <th>count</th>\n",
              "      <td>1870.000000</td>\n",
              "    </tr>\n",
              "    <tr>\n",
              "      <th>mean</th>\n",
              "      <td>17572.190909</td>\n",
              "    </tr>\n",
              "    <tr>\n",
              "      <th>std</th>\n",
              "      <td>7784.071119</td>\n",
              "    </tr>\n",
              "    <tr>\n",
              "      <th>min</th>\n",
              "      <td>6670.000000</td>\n",
              "    </tr>\n",
              "    <tr>\n",
              "      <th>25%</th>\n",
              "      <td>9279.250000</td>\n",
              "    </tr>\n",
              "    <tr>\n",
              "      <th>50%</th>\n",
              "      <td>16890.000000</td>\n",
              "    </tr>\n",
              "    <tr>\n",
              "      <th>75%</th>\n",
              "      <td>24645.750000</td>\n",
              "    </tr>\n",
              "    <tr>\n",
              "      <th>max</th>\n",
              "      <td>32570.000000</td>\n",
              "    </tr>\n",
              "  </tbody>\n",
              "</table>\n",
              "</div>"
            ],
            "text/plain": [
              "       DEPOSITOS PRIVADOS\n",
              "count         1870.000000\n",
              "mean         17572.190909\n",
              "std           7784.071119\n",
              "min           6670.000000\n",
              "25%           9279.250000\n",
              "50%          16890.000000\n",
              "75%          24645.750000\n",
              "max          32570.000000"
            ]
          },
          "metadata": {},
          "execution_count": 25
        }
      ]
    },
    {
      "cell_type": "code",
      "metadata": {
        "id": "npNq5lSHWgaD",
        "colab": {
          "base_uri": "https://localhost:8080/",
          "height": 692
        },
        "outputId": "37225f19-e8b5-4838-e505-f66864ce4d52"
      },
      "source": [
        "# VALORES MINIMOS, MAXIMOS Y PROMEDIO POR MES.\n",
        "\n",
        "info_mensual = all_years_data_ind.resample('M',convention='end')['DEPOSITOS PRIVADOS'].agg(['min','max','mean'])\n",
        "info_mensual.tail(20)"
      ],
      "execution_count": 26,
      "outputs": [
        {
          "output_type": "execute_result",
          "data": {
            "text/html": [
              "<div>\n",
              "<style scoped>\n",
              "    .dataframe tbody tr th:only-of-type {\n",
              "        vertical-align: middle;\n",
              "    }\n",
              "\n",
              "    .dataframe tbody tr th {\n",
              "        vertical-align: top;\n",
              "    }\n",
              "\n",
              "    .dataframe thead th {\n",
              "        text-align: right;\n",
              "    }\n",
              "</style>\n",
              "<table border=\"1\" class=\"dataframe\">\n",
              "  <thead>\n",
              "    <tr style=\"text-align: right;\">\n",
              "      <th></th>\n",
              "      <th>min</th>\n",
              "      <th>max</th>\n",
              "      <th>mean</th>\n",
              "    </tr>\n",
              "    <tr>\n",
              "      <th>DATE</th>\n",
              "      <th></th>\n",
              "      <th></th>\n",
              "      <th></th>\n",
              "    </tr>\n",
              "  </thead>\n",
              "  <tbody>\n",
              "    <tr>\n",
              "      <th>2020-02-29</th>\n",
              "      <td>18551.0</td>\n",
              "      <td>18817.0</td>\n",
              "      <td>18656.277778</td>\n",
              "    </tr>\n",
              "    <tr>\n",
              "      <th>2020-03-31</th>\n",
              "      <td>18058.0</td>\n",
              "      <td>18578.0</td>\n",
              "      <td>18308.684211</td>\n",
              "    </tr>\n",
              "    <tr>\n",
              "      <th>2020-04-30</th>\n",
              "      <td>17799.0</td>\n",
              "      <td>18312.0</td>\n",
              "      <td>18081.450000</td>\n",
              "    </tr>\n",
              "    <tr>\n",
              "      <th>2020-05-31</th>\n",
              "      <td>16913.0</td>\n",
              "      <td>17604.0</td>\n",
              "      <td>17203.473684</td>\n",
              "    </tr>\n",
              "    <tr>\n",
              "      <th>2020-06-30</th>\n",
              "      <td>16810.0</td>\n",
              "      <td>16956.0</td>\n",
              "      <td>16877.142857</td>\n",
              "    </tr>\n",
              "    <tr>\n",
              "      <th>2020-07-31</th>\n",
              "      <td>16954.0</td>\n",
              "      <td>17154.0</td>\n",
              "      <td>17037.190476</td>\n",
              "    </tr>\n",
              "    <tr>\n",
              "      <th>2020-08-31</th>\n",
              "      <td>17144.0</td>\n",
              "      <td>17326.0</td>\n",
              "      <td>17253.650000</td>\n",
              "    </tr>\n",
              "    <tr>\n",
              "      <th>2020-09-30</th>\n",
              "      <td>16204.0</td>\n",
              "      <td>17477.0</td>\n",
              "      <td>17133.136364</td>\n",
              "    </tr>\n",
              "    <tr>\n",
              "      <th>2020-10-31</th>\n",
              "      <td>14746.0</td>\n",
              "      <td>16124.0</td>\n",
              "      <td>15352.857143</td>\n",
              "    </tr>\n",
              "    <tr>\n",
              "      <th>2020-11-30</th>\n",
              "      <td>14670.0</td>\n",
              "      <td>14762.0</td>\n",
              "      <td>14720.842105</td>\n",
              "    </tr>\n",
              "    <tr>\n",
              "      <th>2020-12-31</th>\n",
              "      <td>14794.0</td>\n",
              "      <td>15960.0</td>\n",
              "      <td>15152.333333</td>\n",
              "    </tr>\n",
              "    <tr>\n",
              "      <th>2021-01-31</th>\n",
              "      <td>15689.0</td>\n",
              "      <td>15941.0</td>\n",
              "      <td>15779.400000</td>\n",
              "    </tr>\n",
              "    <tr>\n",
              "      <th>2021-02-28</th>\n",
              "      <td>15665.0</td>\n",
              "      <td>15751.0</td>\n",
              "      <td>15700.777778</td>\n",
              "    </tr>\n",
              "    <tr>\n",
              "      <th>2021-03-31</th>\n",
              "      <td>15717.0</td>\n",
              "      <td>16023.0</td>\n",
              "      <td>15854.863636</td>\n",
              "    </tr>\n",
              "    <tr>\n",
              "      <th>2021-04-30</th>\n",
              "      <td>15934.0</td>\n",
              "      <td>16072.0</td>\n",
              "      <td>15982.350000</td>\n",
              "    </tr>\n",
              "    <tr>\n",
              "      <th>2021-05-31</th>\n",
              "      <td>15987.0</td>\n",
              "      <td>16240.0</td>\n",
              "      <td>16103.947368</td>\n",
              "    </tr>\n",
              "    <tr>\n",
              "      <th>2021-06-30</th>\n",
              "      <td>16149.0</td>\n",
              "      <td>16378.0</td>\n",
              "      <td>16260.190476</td>\n",
              "    </tr>\n",
              "    <tr>\n",
              "      <th>2021-07-31</th>\n",
              "      <td>16237.0</td>\n",
              "      <td>16380.0</td>\n",
              "      <td>16317.666667</td>\n",
              "    </tr>\n",
              "    <tr>\n",
              "      <th>2021-08-31</th>\n",
              "      <td>16367.0</td>\n",
              "      <td>16512.0</td>\n",
              "      <td>16426.857143</td>\n",
              "    </tr>\n",
              "    <tr>\n",
              "      <th>2021-09-30</th>\n",
              "      <td>16368.0</td>\n",
              "      <td>16542.0</td>\n",
              "      <td>16432.250000</td>\n",
              "    </tr>\n",
              "  </tbody>\n",
              "</table>\n",
              "</div>"
            ],
            "text/plain": [
              "                min      max          mean\n",
              "DATE                                      \n",
              "2020-02-29  18551.0  18817.0  18656.277778\n",
              "2020-03-31  18058.0  18578.0  18308.684211\n",
              "2020-04-30  17799.0  18312.0  18081.450000\n",
              "2020-05-31  16913.0  17604.0  17203.473684\n",
              "2020-06-30  16810.0  16956.0  16877.142857\n",
              "2020-07-31  16954.0  17154.0  17037.190476\n",
              "2020-08-31  17144.0  17326.0  17253.650000\n",
              "2020-09-30  16204.0  17477.0  17133.136364\n",
              "2020-10-31  14746.0  16124.0  15352.857143\n",
              "2020-11-30  14670.0  14762.0  14720.842105\n",
              "2020-12-31  14794.0  15960.0  15152.333333\n",
              "2021-01-31  15689.0  15941.0  15779.400000\n",
              "2021-02-28  15665.0  15751.0  15700.777778\n",
              "2021-03-31  15717.0  16023.0  15854.863636\n",
              "2021-04-30  15934.0  16072.0  15982.350000\n",
              "2021-05-31  15987.0  16240.0  16103.947368\n",
              "2021-06-30  16149.0  16378.0  16260.190476\n",
              "2021-07-31  16237.0  16380.0  16317.666667\n",
              "2021-08-31  16367.0  16512.0  16426.857143\n",
              "2021-09-30  16368.0  16542.0  16432.250000"
            ]
          },
          "metadata": {},
          "execution_count": 26
        }
      ]
    },
    {
      "cell_type": "code",
      "metadata": {
        "id": "Ij0rAtvUXIMP",
        "colab": {
          "base_uri": "https://localhost:8080/",
          "height": 324
        },
        "outputId": "1111f0a8-0e00-40f7-ee46-a8fef0e7f11f"
      },
      "source": [
        "# VALORES MINIMOS, MAXIMOS Y PROMEDIO POR AÑO\n",
        "\n",
        "info_anual = all_years_data_ind.resample('Y',convention='end')['DEPOSITOS PRIVADOS'].agg(['min','max','mean'])\n",
        "info_anual"
      ],
      "execution_count": 27,
      "outputs": [
        {
          "output_type": "execute_result",
          "data": {
            "text/html": [
              "<div>\n",
              "<style scoped>\n",
              "    .dataframe tbody tr th:only-of-type {\n",
              "        vertical-align: middle;\n",
              "    }\n",
              "\n",
              "    .dataframe tbody tr th {\n",
              "        vertical-align: top;\n",
              "    }\n",
              "\n",
              "    .dataframe thead th {\n",
              "        text-align: right;\n",
              "    }\n",
              "</style>\n",
              "<table border=\"1\" class=\"dataframe\">\n",
              "  <thead>\n",
              "    <tr style=\"text-align: right;\">\n",
              "      <th></th>\n",
              "      <th>min</th>\n",
              "      <th>max</th>\n",
              "      <th>mean</th>\n",
              "    </tr>\n",
              "    <tr>\n",
              "      <th>DATE</th>\n",
              "      <th></th>\n",
              "      <th></th>\n",
              "      <th></th>\n",
              "    </tr>\n",
              "  </thead>\n",
              "  <tbody>\n",
              "    <tr>\n",
              "      <th>2014-12-31</th>\n",
              "      <td>6670.0</td>\n",
              "      <td>7523.0</td>\n",
              "      <td>7131.595041</td>\n",
              "    </tr>\n",
              "    <tr>\n",
              "      <th>2015-12-31</th>\n",
              "      <td>7432.0</td>\n",
              "      <td>10688.0</td>\n",
              "      <td>8376.032787</td>\n",
              "    </tr>\n",
              "    <tr>\n",
              "      <th>2016-12-31</th>\n",
              "      <td>10767.0</td>\n",
              "      <td>22572.0</td>\n",
              "      <td>13640.514170</td>\n",
              "    </tr>\n",
              "    <tr>\n",
              "      <th>2017-12-31</th>\n",
              "      <td>22623.0</td>\n",
              "      <td>26695.0</td>\n",
              "      <td>23974.317073</td>\n",
              "    </tr>\n",
              "    <tr>\n",
              "      <th>2018-12-31</th>\n",
              "      <td>25465.0</td>\n",
              "      <td>29040.0</td>\n",
              "      <td>26870.330579</td>\n",
              "    </tr>\n",
              "    <tr>\n",
              "      <th>2019-12-31</th>\n",
              "      <td>17941.0</td>\n",
              "      <td>32570.0</td>\n",
              "      <td>26966.045267</td>\n",
              "    </tr>\n",
              "    <tr>\n",
              "      <th>2020-12-31</th>\n",
              "      <td>14670.0</td>\n",
              "      <td>19418.0</td>\n",
              "      <td>17086.175000</td>\n",
              "    </tr>\n",
              "    <tr>\n",
              "      <th>2021-12-31</th>\n",
              "      <td>15665.0</td>\n",
              "      <td>16542.0</td>\n",
              "      <td>16069.030120</td>\n",
              "    </tr>\n",
              "  </tbody>\n",
              "</table>\n",
              "</div>"
            ],
            "text/plain": [
              "                min      max          mean\n",
              "DATE                                      \n",
              "2014-12-31   6670.0   7523.0   7131.595041\n",
              "2015-12-31   7432.0  10688.0   8376.032787\n",
              "2016-12-31  10767.0  22572.0  13640.514170\n",
              "2017-12-31  22623.0  26695.0  23974.317073\n",
              "2018-12-31  25465.0  29040.0  26870.330579\n",
              "2019-12-31  17941.0  32570.0  26966.045267\n",
              "2020-12-31  14670.0  19418.0  17086.175000\n",
              "2021-12-31  15665.0  16542.0  16069.030120"
            ]
          },
          "metadata": {},
          "execution_count": 27
        }
      ]
    },
    {
      "cell_type": "code",
      "metadata": {
        "id": "bguN0_7R3VRz",
        "colab": {
          "base_uri": "https://localhost:8080/",
          "height": 753
        },
        "outputId": "caf999b1-38e1-40d6-bc23-ad86b88334d1"
      },
      "source": [
        "# Variacion de los depositos un mes depues de las PASO.\n",
        "# Filtrar por fecha.\n",
        "\n",
        "post_paso = all_years_data[(all_years_data['DATE'] > '2019-08-09') & (all_years_data['DATE'] <= '2019-09-12')]\n",
        "post_paso"
      ],
      "execution_count": 28,
      "outputs": [
        {
          "output_type": "execute_result",
          "data": {
            "text/html": [
              "<div>\n",
              "<style scoped>\n",
              "    .dataframe tbody tr th:only-of-type {\n",
              "        vertical-align: middle;\n",
              "    }\n",
              "\n",
              "    .dataframe tbody tr th {\n",
              "        vertical-align: top;\n",
              "    }\n",
              "\n",
              "    .dataframe thead th {\n",
              "        text-align: right;\n",
              "    }\n",
              "</style>\n",
              "<table border=\"1\" class=\"dataframe\">\n",
              "  <thead>\n",
              "    <tr style=\"text-align: right;\">\n",
              "      <th></th>\n",
              "      <th>DATE</th>\n",
              "      <th>DEPOSITOS PRIVADOS</th>\n",
              "      <th>VARIACION</th>\n",
              "      <th>VARIACION PCT</th>\n",
              "    </tr>\n",
              "  </thead>\n",
              "  <tbody>\n",
              "    <tr>\n",
              "      <th>173</th>\n",
              "      <td>2019-08-12</td>\n",
              "      <td>32340.0</td>\n",
              "      <td>-230.0</td>\n",
              "      <td>-0.706171</td>\n",
              "    </tr>\n",
              "    <tr>\n",
              "      <th>174</th>\n",
              "      <td>2019-08-13</td>\n",
              "      <td>31811.0</td>\n",
              "      <td>-529.0</td>\n",
              "      <td>-1.635745</td>\n",
              "    </tr>\n",
              "    <tr>\n",
              "      <th>175</th>\n",
              "      <td>2019-08-14</td>\n",
              "      <td>31343.0</td>\n",
              "      <td>-468.0</td>\n",
              "      <td>-1.471189</td>\n",
              "    </tr>\n",
              "    <tr>\n",
              "      <th>176</th>\n",
              "      <td>2019-08-15</td>\n",
              "      <td>30965.0</td>\n",
              "      <td>-378.0</td>\n",
              "      <td>-1.206011</td>\n",
              "    </tr>\n",
              "    <tr>\n",
              "      <th>177</th>\n",
              "      <td>2019-08-16</td>\n",
              "      <td>30589.0</td>\n",
              "      <td>-376.0</td>\n",
              "      <td>-1.214274</td>\n",
              "    </tr>\n",
              "    <tr>\n",
              "      <th>178</th>\n",
              "      <td>2019-08-20</td>\n",
              "      <td>30153.0</td>\n",
              "      <td>-436.0</td>\n",
              "      <td>-1.425349</td>\n",
              "    </tr>\n",
              "    <tr>\n",
              "      <th>179</th>\n",
              "      <td>2019-08-21</td>\n",
              "      <td>29818.0</td>\n",
              "      <td>-335.0</td>\n",
              "      <td>-1.111001</td>\n",
              "    </tr>\n",
              "    <tr>\n",
              "      <th>180</th>\n",
              "      <td>2019-08-22</td>\n",
              "      <td>29548.0</td>\n",
              "      <td>-270.0</td>\n",
              "      <td>-0.905493</td>\n",
              "    </tr>\n",
              "    <tr>\n",
              "      <th>181</th>\n",
              "      <td>2019-08-23</td>\n",
              "      <td>29360.0</td>\n",
              "      <td>-188.0</td>\n",
              "      <td>-0.636253</td>\n",
              "    </tr>\n",
              "    <tr>\n",
              "      <th>182</th>\n",
              "      <td>2019-08-26</td>\n",
              "      <td>29178.0</td>\n",
              "      <td>-182.0</td>\n",
              "      <td>-0.619891</td>\n",
              "    </tr>\n",
              "    <tr>\n",
              "      <th>183</th>\n",
              "      <td>2019-08-27</td>\n",
              "      <td>29024.0</td>\n",
              "      <td>-154.0</td>\n",
              "      <td>-0.527795</td>\n",
              "    </tr>\n",
              "    <tr>\n",
              "      <th>184</th>\n",
              "      <td>2019-08-28</td>\n",
              "      <td>28582.0</td>\n",
              "      <td>-442.0</td>\n",
              "      <td>-1.522878</td>\n",
              "    </tr>\n",
              "    <tr>\n",
              "      <th>185</th>\n",
              "      <td>2019-08-29</td>\n",
              "      <td>27740.0</td>\n",
              "      <td>-842.0</td>\n",
              "      <td>-2.945910</td>\n",
              "    </tr>\n",
              "    <tr>\n",
              "      <th>186</th>\n",
              "      <td>2019-08-30</td>\n",
              "      <td>26663.0</td>\n",
              "      <td>-1077.0</td>\n",
              "      <td>-3.882480</td>\n",
              "    </tr>\n",
              "    <tr>\n",
              "      <th>187</th>\n",
              "      <td>2019-09-02</td>\n",
              "      <td>25687.0</td>\n",
              "      <td>-976.0</td>\n",
              "      <td>-3.660503</td>\n",
              "    </tr>\n",
              "    <tr>\n",
              "      <th>188</th>\n",
              "      <td>2019-09-03</td>\n",
              "      <td>24967.0</td>\n",
              "      <td>-720.0</td>\n",
              "      <td>-2.802974</td>\n",
              "    </tr>\n",
              "    <tr>\n",
              "      <th>189</th>\n",
              "      <td>2019-09-04</td>\n",
              "      <td>24203.0</td>\n",
              "      <td>-764.0</td>\n",
              "      <td>-3.060039</td>\n",
              "    </tr>\n",
              "    <tr>\n",
              "      <th>190</th>\n",
              "      <td>2019-09-05</td>\n",
              "      <td>23713.0</td>\n",
              "      <td>-490.0</td>\n",
              "      <td>-2.024542</td>\n",
              "    </tr>\n",
              "    <tr>\n",
              "      <th>191</th>\n",
              "      <td>2019-09-06</td>\n",
              "      <td>23308.0</td>\n",
              "      <td>-405.0</td>\n",
              "      <td>-1.707924</td>\n",
              "    </tr>\n",
              "    <tr>\n",
              "      <th>192</th>\n",
              "      <td>2019-09-09</td>\n",
              "      <td>23045.0</td>\n",
              "      <td>-263.0</td>\n",
              "      <td>-1.128368</td>\n",
              "    </tr>\n",
              "    <tr>\n",
              "      <th>193</th>\n",
              "      <td>2019-09-10</td>\n",
              "      <td>22888.0</td>\n",
              "      <td>-157.0</td>\n",
              "      <td>-0.681276</td>\n",
              "    </tr>\n",
              "    <tr>\n",
              "      <th>194</th>\n",
              "      <td>2019-09-11</td>\n",
              "      <td>22709.0</td>\n",
              "      <td>-179.0</td>\n",
              "      <td>-0.782069</td>\n",
              "    </tr>\n",
              "    <tr>\n",
              "      <th>195</th>\n",
              "      <td>2019-09-12</td>\n",
              "      <td>22552.0</td>\n",
              "      <td>-157.0</td>\n",
              "      <td>-0.691356</td>\n",
              "    </tr>\n",
              "  </tbody>\n",
              "</table>\n",
              "</div>"
            ],
            "text/plain": [
              "          DATE  DEPOSITOS PRIVADOS  VARIACION  VARIACION PCT\n",
              "173 2019-08-12             32340.0     -230.0      -0.706171\n",
              "174 2019-08-13             31811.0     -529.0      -1.635745\n",
              "175 2019-08-14             31343.0     -468.0      -1.471189\n",
              "176 2019-08-15             30965.0     -378.0      -1.206011\n",
              "177 2019-08-16             30589.0     -376.0      -1.214274\n",
              "178 2019-08-20             30153.0     -436.0      -1.425349\n",
              "179 2019-08-21             29818.0     -335.0      -1.111001\n",
              "180 2019-08-22             29548.0     -270.0      -0.905493\n",
              "181 2019-08-23             29360.0     -188.0      -0.636253\n",
              "182 2019-08-26             29178.0     -182.0      -0.619891\n",
              "183 2019-08-27             29024.0     -154.0      -0.527795\n",
              "184 2019-08-28             28582.0     -442.0      -1.522878\n",
              "185 2019-08-29             27740.0     -842.0      -2.945910\n",
              "186 2019-08-30             26663.0    -1077.0      -3.882480\n",
              "187 2019-09-02             25687.0     -976.0      -3.660503\n",
              "188 2019-09-03             24967.0     -720.0      -2.802974\n",
              "189 2019-09-04             24203.0     -764.0      -3.060039\n",
              "190 2019-09-05             23713.0     -490.0      -2.024542\n",
              "191 2019-09-06             23308.0     -405.0      -1.707924\n",
              "192 2019-09-09             23045.0     -263.0      -1.128368\n",
              "193 2019-09-10             22888.0     -157.0      -0.681276\n",
              "194 2019-09-11             22709.0     -179.0      -0.782069\n",
              "195 2019-09-12             22552.0     -157.0      -0.691356"
            ]
          },
          "metadata": {},
          "execution_count": 28
        }
      ]
    },
    {
      "cell_type": "code",
      "metadata": {
        "id": "DgbJWcs3csKy",
        "colab": {
          "base_uri": "https://localhost:8080/"
        },
        "outputId": "11120683-0a1a-4596-b37a-9f356fb2b5e7"
      },
      "source": [
        "print('Entre el 12 de Agosto de 2019 y el 13 de Septiembre de 2019 se retiraron ',post_paso['VARIACION'].sum()*-1,' millones de dolares')"
      ],
      "execution_count": 29,
      "outputs": [
        {
          "output_type": "stream",
          "name": "stdout",
          "text": [
            "Entre el 12 de Agosto de 2019 y el 13 de Septiembre de 2019 se retiraron  10018.0  millones de dolares\n"
          ]
        }
      ]
    },
    {
      "cell_type": "code",
      "metadata": {
        "id": "sOrozxcsadNV",
        "colab": {
          "base_uri": "https://localhost:8080/",
          "height": 347
        },
        "outputId": "8243e34a-a338-4c11-8ddd-6227b03310c8"
      },
      "source": [
        "# ZOOM Entre el 12 de Agosto de 2019 y el 13 de Septiembre de 2019\n",
        "fig, ax = plt.subplots()\n",
        "ax.plot(post_paso['DATE'], post_paso['DEPOSITOS PRIVADOS'])\n",
        "\n",
        "plt.show()"
      ],
      "execution_count": 30,
      "outputs": [
        {
          "output_type": "display_data",
          "data": {
            "image/png": "[encoded data removed]",
            "text/plain": [
              "<Figure size 576x396 with 1 Axes>"
            ]
          },
          "metadata": {}
        }
      ]
    },
    {
      "cell_type": "code",
      "metadata": {
        "id": "mDPWslLAYzMH",
        "colab": {
          "base_uri": "https://localhost:8080/",
          "height": 376
        },
        "outputId": "a79519d3-86da-4dd3-f9bb-7c289ad94e94"
      },
      "source": [
        "plt.style.use('seaborn')\n",
        "\n",
        "fig, ax = plt.subplots()\n",
        "\n",
        "ax.bar(post_paso['DATE'], post_paso['VARIACION'])\n",
        "for bar in ax.patches:\n",
        "    if bar.get_height() >= 0:\n",
        "        bar.set_color('green')    \n",
        "    else:\n",
        "        bar.set_color('red')\n",
        "\n",
        "ax.set_xlabel('Date')\n",
        "ax.set_ylabel('Millones de Dolares')\n",
        "ax.set_title('Post PASO: Depositos y Retiros de dolares')\n",
        "\n",
        "plt.show()"
      ],
      "execution_count": 31,
      "outputs": [
        {
          "output_type": "display_data",
          "data": {
            "image/png": "[encoded data removed]",
            "text/plain": [
              "<Figure size 576x396 with 1 Axes>"
            ]
          },
          "metadata": {}
        }
      ]
    },
    {
      "cell_type": "code",
      "metadata": {
        "id": "XuLx845KKEX3",
        "colab": {
          "base_uri": "https://localhost:8080/",
          "height": 376
        },
        "outputId": "7d947445-e286-48af-c944-9c2782c5a4b8"
      },
      "source": [
        "# GRAFICO VARIACION DIARIA\n",
        "# Grafico de barras con condicional para el color ( verde >= 0, rojo < 0)\n",
        "\n",
        "#plt.figure(figsize=(10,7))\n",
        "\n",
        "plt.style.use('seaborn')\n",
        "\n",
        "fig, ax = plt.subplots()\n",
        "\n",
        "ax.bar(all_years_data['DATE'], all_years_data['VARIACION'])\n",
        "for bar in ax.patches:\n",
        "    if bar.get_height() >= 0:\n",
        "        bar.set_color('green')    \n",
        "    else:\n",
        "        bar.set_color('red')\n",
        "\n",
        "ax.set_xlabel('Date')\n",
        "ax.set_ylabel('Millones de Dolares')\n",
        "ax.set_title('Depositos y Retiros de dolares')\n",
        "\n",
        "plt.show()"
      ],
      "execution_count": 32,
      "outputs": [
        {
          "output_type": "display_data",
          "data": {
            "image/png": "[encoded data removed]",
            "text/plain": [
              "<Figure size 576x396 with 1 Axes>"
            ]
          },
          "metadata": {}
        }
      ]
    },
    {
      "cell_type": "code",
      "metadata": {
        "id": "nWj-FLz2qCYi",
        "colab": {
          "base_uri": "https://localhost:8080/",
          "height": 355
        },
        "outputId": "9fb8566f-d298-4382-c130-0f120d8ada03"
      },
      "source": [
        "#Create a list range of dates\n",
        "Dates = pd.date_range(start=\"2014-01-01\",end=\"2021-03-03\")\n",
        "#Dates\n",
        "\n",
        "#Convert list into df\n",
        "df_dates = pd.DataFrame(Dates,columns=['DATE'])\n",
        "df_dates.tail(10)"
      ],
      "execution_count": 34,
      "outputs": [
        {
          "output_type": "execute_result",
          "data": {
            "text/html": [
              "<div>\n",
              "<style scoped>\n",
              "    .dataframe tbody tr th:only-of-type {\n",
              "        vertical-align: middle;\n",
              "    }\n",
              "\n",
              "    .dataframe tbody tr th {\n",
              "        vertical-align: top;\n",
              "    }\n",
              "\n",
              "    .dataframe thead th {\n",
              "        text-align: right;\n",
              "    }\n",
              "</style>\n",
              "<table border=\"1\" class=\"dataframe\">\n",
              "  <thead>\n",
              "    <tr style=\"text-align: right;\">\n",
              "      <th></th>\n",
              "      <th>DATE</th>\n",
              "    </tr>\n",
              "  </thead>\n",
              "  <tbody>\n",
              "    <tr>\n",
              "      <th>2609</th>\n",
              "      <td>2021-02-22</td>\n",
              "    </tr>\n",
              "    <tr>\n",
              "      <th>2610</th>\n",
              "      <td>2021-02-23</td>\n",
              "    </tr>\n",
              "    <tr>\n",
              "      <th>2611</th>\n",
              "      <td>2021-02-24</td>\n",
              "    </tr>\n",
              "    <tr>\n",
              "      <th>2612</th>\n",
              "      <td>2021-02-25</td>\n",
              "    </tr>\n",
              "    <tr>\n",
              "      <th>2613</th>\n",
              "      <td>2021-02-26</td>\n",
              "    </tr>\n",
              "    <tr>\n",
              "      <th>2614</th>\n",
              "      <td>2021-02-27</td>\n",
              "    </tr>\n",
              "    <tr>\n",
              "      <th>2615</th>\n",
              "      <td>2021-02-28</td>\n",
              "    </tr>\n",
              "    <tr>\n",
              "      <th>2616</th>\n",
              "      <td>2021-03-01</td>\n",
              "    </tr>\n",
              "    <tr>\n",
              "      <th>2617</th>\n",
              "      <td>2021-03-02</td>\n",
              "    </tr>\n",
              "    <tr>\n",
              "      <th>2618</th>\n",
              "      <td>2021-03-03</td>\n",
              "    </tr>\n",
              "  </tbody>\n",
              "</table>\n",
              "</div>"
            ],
            "text/plain": [
              "           DATE\n",
              "2609 2021-02-22\n",
              "2610 2021-02-23\n",
              "2611 2021-02-24\n",
              "2612 2021-02-25\n",
              "2613 2021-02-26\n",
              "2614 2021-02-27\n",
              "2615 2021-02-28\n",
              "2616 2021-03-01\n",
              "2617 2021-03-02\n",
              "2618 2021-03-03"
            ]
          },
          "metadata": {},
          "execution_count": 34
        }
      ]
    },
    {
      "cell_type": "code",
      "metadata": {
        "id": "QpHwtCdtv6fY",
        "colab": {
          "base_uri": "https://localhost:8080/",
          "height": 355
        },
        "outputId": "df6ee5af-dffe-40ab-c491-5fb8a5820b81"
      },
      "source": [
        "#se hace un concatenate\n",
        "\n",
        "frames = [all_years_data, df_dates]\n",
        "result = pd.concat(frames)\n",
        "\n",
        "delete_duplicate = result.groupby(['DATE'], as_index=False).sum()\n",
        "delete_duplicate.tail(10)"
      ],
      "execution_count": 35,
      "outputs": [
        {
          "output_type": "execute_result",
          "data": {
            "text/html": [
              "<div>\n",
              "<style scoped>\n",
              "    .dataframe tbody tr th:only-of-type {\n",
              "        vertical-align: middle;\n",
              "    }\n",
              "\n",
              "    .dataframe tbody tr th {\n",
              "        vertical-align: top;\n",
              "    }\n",
              "\n",
              "    .dataframe thead th {\n",
              "        text-align: right;\n",
              "    }\n",
              "</style>\n",
              "<table border=\"1\" class=\"dataframe\">\n",
              "  <thead>\n",
              "    <tr style=\"text-align: right;\">\n",
              "      <th></th>\n",
              "      <th>DATE</th>\n",
              "      <th>DEPOSITOS PRIVADOS</th>\n",
              "      <th>VARIACION</th>\n",
              "      <th>VARIACION PCT</th>\n",
              "    </tr>\n",
              "  </thead>\n",
              "  <tbody>\n",
              "    <tr>\n",
              "      <th>2734</th>\n",
              "      <td>2021-08-24</td>\n",
              "      <td>16413.0</td>\n",
              "      <td>17.0</td>\n",
              "      <td>0.103684</td>\n",
              "    </tr>\n",
              "    <tr>\n",
              "      <th>2735</th>\n",
              "      <td>2021-08-25</td>\n",
              "      <td>16409.0</td>\n",
              "      <td>-4.0</td>\n",
              "      <td>-0.024371</td>\n",
              "    </tr>\n",
              "    <tr>\n",
              "      <th>2736</th>\n",
              "      <td>2021-08-26</td>\n",
              "      <td>16405.0</td>\n",
              "      <td>-4.0</td>\n",
              "      <td>-0.024377</td>\n",
              "    </tr>\n",
              "    <tr>\n",
              "      <th>2737</th>\n",
              "      <td>2021-08-27</td>\n",
              "      <td>16367.0</td>\n",
              "      <td>-38.0</td>\n",
              "      <td>-0.231637</td>\n",
              "    </tr>\n",
              "    <tr>\n",
              "      <th>2738</th>\n",
              "      <td>2021-08-30</td>\n",
              "      <td>16400.0</td>\n",
              "      <td>33.0</td>\n",
              "      <td>0.201625</td>\n",
              "    </tr>\n",
              "    <tr>\n",
              "      <th>2739</th>\n",
              "      <td>2021-08-31</td>\n",
              "      <td>16453.0</td>\n",
              "      <td>53.0</td>\n",
              "      <td>0.323171</td>\n",
              "    </tr>\n",
              "    <tr>\n",
              "      <th>2740</th>\n",
              "      <td>2021-09-01</td>\n",
              "      <td>16542.0</td>\n",
              "      <td>89.0</td>\n",
              "      <td>0.540935</td>\n",
              "    </tr>\n",
              "    <tr>\n",
              "      <th>2741</th>\n",
              "      <td>2021-09-02</td>\n",
              "      <td>16404.0</td>\n",
              "      <td>-138.0</td>\n",
              "      <td>-0.834240</td>\n",
              "    </tr>\n",
              "    <tr>\n",
              "      <th>2742</th>\n",
              "      <td>2021-09-03</td>\n",
              "      <td>16368.0</td>\n",
              "      <td>-36.0</td>\n",
              "      <td>-0.219459</td>\n",
              "    </tr>\n",
              "    <tr>\n",
              "      <th>2743</th>\n",
              "      <td>2021-09-06</td>\n",
              "      <td>16415.0</td>\n",
              "      <td>47.0</td>\n",
              "      <td>0.287146</td>\n",
              "    </tr>\n",
              "  </tbody>\n",
              "</table>\n",
              "</div>"
            ],
            "text/plain": [
              "           DATE  DEPOSITOS PRIVADOS  VARIACION  VARIACION PCT\n",
              "2734 2021-08-24             16413.0       17.0       0.103684\n",
              "2735 2021-08-25             16409.0       -4.0      -0.024371\n",
              "2736 2021-08-26             16405.0       -4.0      -0.024377\n",
              "2737 2021-08-27             16367.0      -38.0      -0.231637\n",
              "2738 2021-08-30             16400.0       33.0       0.201625\n",
              "2739 2021-08-31             16453.0       53.0       0.323171\n",
              "2740 2021-09-01             16542.0       89.0       0.540935\n",
              "2741 2021-09-02             16404.0     -138.0      -0.834240\n",
              "2742 2021-09-03             16368.0      -36.0      -0.219459\n",
              "2743 2021-09-06             16415.0       47.0       0.287146"
            ]
          },
          "metadata": {},
          "execution_count": 35
        }
      ]
    },
    {
      "cell_type": "code",
      "metadata": {
        "id": "79dSDguRqqdx"
      },
      "source": [
        "# SE hace un similar de vlookup\n",
        "# \n",
        "#calendar = all_years_data.merge(df_dates, on=['DATE'])\n",
        "#calendar"
      ],
      "execution_count": 43,
      "outputs": []
    },
    {
      "cell_type": "code",
      "metadata": {
        "id": "eIToAoZyuH0y",
        "colab": {
          "base_uri": "https://localhost:8080/",
          "height": 355
        },
        "outputId": "b3434deb-073f-4cd5-ded2-da1db52e1bb5"
      },
      "source": [
        "# Fill in missing values with previous values\n",
        "\n",
        "delete_duplicate = delete_duplicate.replace(0, np.nan)\n",
        "#delete_duplicate.tail(10)\n",
        "\n",
        "delete_duplicate.fillna(method='ffill', inplace=True)\n",
        "delete_duplicate.tail(10)"
      ],
      "execution_count": 37,
      "outputs": [
        {
          "output_type": "execute_result",
          "data": {
            "text/html": [
              "<div>\n",
              "<style scoped>\n",
              "    .dataframe tbody tr th:only-of-type {\n",
              "        vertical-align: middle;\n",
              "    }\n",
              "\n",
              "    .dataframe tbody tr th {\n",
              "        vertical-align: top;\n",
              "    }\n",
              "\n",
              "    .dataframe thead th {\n",
              "        text-align: right;\n",
              "    }\n",
              "</style>\n",
              "<table border=\"1\" class=\"dataframe\">\n",
              "  <thead>\n",
              "    <tr style=\"text-align: right;\">\n",
              "      <th></th>\n",
              "      <th>DATE</th>\n",
              "      <th>DEPOSITOS PRIVADOS</th>\n",
              "      <th>VARIACION</th>\n",
              "      <th>VARIACION PCT</th>\n",
              "    </tr>\n",
              "  </thead>\n",
              "  <tbody>\n",
              "    <tr>\n",
              "      <th>2734</th>\n",
              "      <td>2021-08-24</td>\n",
              "      <td>16413.0</td>\n",
              "      <td>17.0</td>\n",
              "      <td>0.103684</td>\n",
              "    </tr>\n",
              "    <tr>\n",
              "      <th>2735</th>\n",
              "      <td>2021-08-25</td>\n",
              "      <td>16409.0</td>\n",
              "      <td>-4.0</td>\n",
              "      <td>-0.024371</td>\n",
              "    </tr>\n",
              "    <tr>\n",
              "      <th>2736</th>\n",
              "      <td>2021-08-26</td>\n",
              "      <td>16405.0</td>\n",
              "      <td>-4.0</td>\n",
              "      <td>-0.024377</td>\n",
              "    </tr>\n",
              "    <tr>\n",
              "      <th>2737</th>\n",
              "      <td>2021-08-27</td>\n",
              "      <td>16367.0</td>\n",
              "      <td>-38.0</td>\n",
              "      <td>-0.231637</td>\n",
              "    </tr>\n",
              "    <tr>\n",
              "      <th>2738</th>\n",
              "      <td>2021-08-30</td>\n",
              "      <td>16400.0</td>\n",
              "      <td>33.0</td>\n",
              "      <td>0.201625</td>\n",
              "    </tr>\n",
              "    <tr>\n",
              "      <th>2739</th>\n",
              "      <td>2021-08-31</td>\n",
              "      <td>16453.0</td>\n",
              "      <td>53.0</td>\n",
              "      <td>0.323171</td>\n",
              "    </tr>\n",
              "    <tr>\n",
              "      <th>2740</th>\n",
              "      <td>2021-09-01</td>\n",
              "      <td>16542.0</td>\n",
              "      <td>89.0</td>\n",
              "      <td>0.540935</td>\n",
              "    </tr>\n",
              "    <tr>\n",
              "      <th>2741</th>\n",
              "      <td>2021-09-02</td>\n",
              "      <td>16404.0</td>\n",
              "      <td>-138.0</td>\n",
              "      <td>-0.834240</td>\n",
              "    </tr>\n",
              "    <tr>\n",
              "      <th>2742</th>\n",
              "      <td>2021-09-03</td>\n",
              "      <td>16368.0</td>\n",
              "      <td>-36.0</td>\n",
              "      <td>-0.219459</td>\n",
              "    </tr>\n",
              "    <tr>\n",
              "      <th>2743</th>\n",
              "      <td>2021-09-06</td>\n",
              "      <td>16415.0</td>\n",
              "      <td>47.0</td>\n",
              "      <td>0.287146</td>\n",
              "    </tr>\n",
              "  </tbody>\n",
              "</table>\n",
              "</div>"
            ],
            "text/plain": [
              "           DATE  DEPOSITOS PRIVADOS  VARIACION  VARIACION PCT\n",
              "2734 2021-08-24             16413.0       17.0       0.103684\n",
              "2735 2021-08-25             16409.0       -4.0      -0.024371\n",
              "2736 2021-08-26             16405.0       -4.0      -0.024377\n",
              "2737 2021-08-27             16367.0      -38.0      -0.231637\n",
              "2738 2021-08-30             16400.0       33.0       0.201625\n",
              "2739 2021-08-31             16453.0       53.0       0.323171\n",
              "2740 2021-09-01             16542.0       89.0       0.540935\n",
              "2741 2021-09-02             16404.0     -138.0      -0.834240\n",
              "2742 2021-09-03             16368.0      -36.0      -0.219459\n",
              "2743 2021-09-06             16415.0       47.0       0.287146"
            ]
          },
          "metadata": {},
          "execution_count": 37
        }
      ]
    },
    {
      "cell_type": "code",
      "metadata": {
        "id": "aZJ_Dl08uW-e",
        "colab": {
          "base_uri": "https://localhost:8080/",
          "height": 1000
        },
        "outputId": "ffbb3ad8-3948-43e9-ae8a-653f31da2ba4"
      },
      "source": [
        "# Set Index\n",
        " \n",
        "delete_duplicate_ind = delete_duplicate.set_index('DATE')\n",
        "\n",
        "# elimnar los NaNs\n",
        "delete_duplicate_ind = delete_duplicate_ind.dropna()\n",
        "#delete_duplicate_ind.head()\n",
        "#calendar_ind.tail()\n",
        "\n",
        "# Create a Calendar\n",
        "\n",
        "calplot.calplot(delete_duplicate_ind['DEPOSITOS PRIVADOS'],cmap='Spectral')"
      ],
      "execution_count": 38,
      "outputs": [
        {
          "output_type": "stream",
          "name": "stderr",
          "text": [
            "findfont: Font family ['Helvetica'] not found. Falling back to DejaVu Sans.\n"
          ]
        },
        {
          "output_type": "execute_result",
          "data": {
            "text/plain": [
              "(<Figure size 900x979.2 with 9 Axes>,\n",
              " array([<matplotlib.axes._subplots.AxesSubplot object at 0x7f734a345bd0>,\n",
              "        <matplotlib.axes._subplots.AxesSubplot object at 0x7f734ac24310>,\n",
              "        <matplotlib.axes._subplots.AxesSubplot object at 0x7f734a2cb510>,\n",
              "        <matplotlib.axes._subplots.AxesSubplot object at 0x7f734a27da90>,\n",
              "        <matplotlib.axes._subplots.AxesSubplot object at 0x7f734a23b090>,\n",
              "        <matplotlib.axes._subplots.AxesSubplot object at 0x7f734ab3f350>,\n",
              "        <matplotlib.axes._subplots.AxesSubplot object at 0x7f734b820c10>,\n",
              "        <matplotlib.axes._subplots.AxesSubplot object at 0x7f734b2b1d90>],\n",
              "       dtype=object))"
            ]
          },
          "metadata": {},
          "execution_count": 38
        },
        {
          "output_type": "display_data",
          "data": {
            "image/png": "[encoded data removed]",
            "text/plain": [
              "<Figure size 900x979.2 with 9 Axes>"
            ]
          },
          "metadata": {}
        }
      ]
    },
    {
      "cell_type": "code",
      "metadata": {
        "id": "YTAd_HGbPShO",
        "colab": {
          "base_uri": "https://localhost:8080/",
          "height": 202
        },
        "outputId": "09f14ae7-079a-4197-d587-df94699b7fc5"
      },
      "source": [
        "#Ingreso de dolares mayores a 600 millones diarios\n",
        "all_years_data[all_years_data['VARIACION']>600]"
      ],
      "execution_count": 39,
      "outputs": [
        {
          "output_type": "execute_result",
          "data": {
            "text/html": [
              "<div>\n",
              "<style scoped>\n",
              "    .dataframe tbody tr th:only-of-type {\n",
              "        vertical-align: middle;\n",
              "    }\n",
              "\n",
              "    .dataframe tbody tr th {\n",
              "        vertical-align: top;\n",
              "    }\n",
              "\n",
              "    .dataframe thead th {\n",
              "        text-align: right;\n",
              "    }\n",
              "</style>\n",
              "<table border=\"1\" class=\"dataframe\">\n",
              "  <thead>\n",
              "    <tr style=\"text-align: right;\">\n",
              "      <th></th>\n",
              "      <th>DATE</th>\n",
              "      <th>DEPOSITOS PRIVADOS</th>\n",
              "      <th>VARIACION</th>\n",
              "      <th>VARIACION PCT</th>\n",
              "    </tr>\n",
              "  </thead>\n",
              "  <tbody>\n",
              "    <tr>\n",
              "      <th>102</th>\n",
              "      <td>2015-04-29</td>\n",
              "      <td>8465.0</td>\n",
              "      <td>893.0</td>\n",
              "      <td>11.793450</td>\n",
              "    </tr>\n",
              "    <tr>\n",
              "      <th>211</th>\n",
              "      <td>2015-10-05</td>\n",
              "      <td>9100.0</td>\n",
              "      <td>756.0</td>\n",
              "      <td>9.060403</td>\n",
              "    </tr>\n",
              "    <tr>\n",
              "      <th>235</th>\n",
              "      <td>2016-11-07</td>\n",
              "      <td>17803.0</td>\n",
              "      <td>665.0</td>\n",
              "      <td>3.880266</td>\n",
              "    </tr>\n",
              "    <tr>\n",
              "      <th>95</th>\n",
              "      <td>2017-04-17</td>\n",
              "      <td>24808.0</td>\n",
              "      <td>1175.0</td>\n",
              "      <td>4.971861</td>\n",
              "    </tr>\n",
              "    <tr>\n",
              "      <th>173</th>\n",
              "      <td>2018-08-10</td>\n",
              "      <td>27976.0</td>\n",
              "      <td>625.0</td>\n",
              "      <td>2.285108</td>\n",
              "    </tr>\n",
              "  </tbody>\n",
              "</table>\n",
              "</div>"
            ],
            "text/plain": [
              "          DATE  DEPOSITOS PRIVADOS  VARIACION  VARIACION PCT\n",
              "102 2015-04-29              8465.0      893.0      11.793450\n",
              "211 2015-10-05              9100.0      756.0       9.060403\n",
              "235 2016-11-07             17803.0      665.0       3.880266\n",
              "95  2017-04-17             24808.0     1175.0       4.971861\n",
              "173 2018-08-10             27976.0      625.0       2.285108"
            ]
          },
          "metadata": {},
          "execution_count": 39
        }
      ]
    },
    {
      "cell_type": "code",
      "metadata": {
        "id": "AjP2mOrJW8xs",
        "colab": {
          "base_uri": "https://localhost:8080/",
          "height": 477
        },
        "outputId": "08cd784f-38ba-4621-d471-73ee04566ade"
      },
      "source": [
        "#Egreso de dolares mayores a -400 millones diarios\n",
        "all_years_data[all_years_data['VARIACION']<-400]"
      ],
      "execution_count": 40,
      "outputs": [
        {
          "output_type": "execute_result",
          "data": {
            "text/html": [
              "<div>\n",
              "<style scoped>\n",
              "    .dataframe tbody tr th:only-of-type {\n",
              "        vertical-align: middle;\n",
              "    }\n",
              "\n",
              "    .dataframe tbody tr th {\n",
              "        vertical-align: top;\n",
              "    }\n",
              "\n",
              "    .dataframe thead th {\n",
              "        text-align: right;\n",
              "    }\n",
              "</style>\n",
              "<table border=\"1\" class=\"dataframe\">\n",
              "  <thead>\n",
              "    <tr style=\"text-align: right;\">\n",
              "      <th></th>\n",
              "      <th>DATE</th>\n",
              "      <th>DEPOSITOS PRIVADOS</th>\n",
              "      <th>VARIACION</th>\n",
              "      <th>VARIACION PCT</th>\n",
              "    </tr>\n",
              "  </thead>\n",
              "  <tbody>\n",
              "    <tr>\n",
              "      <th>72</th>\n",
              "      <td>2014-03-12</td>\n",
              "      <td>6672.0</td>\n",
              "      <td>-503.0</td>\n",
              "      <td>-7.010453</td>\n",
              "    </tr>\n",
              "    <tr>\n",
              "      <th>165</th>\n",
              "      <td>2018-07-31</td>\n",
              "      <td>27139.0</td>\n",
              "      <td>-460.0</td>\n",
              "      <td>-1.666727</td>\n",
              "    </tr>\n",
              "    <tr>\n",
              "      <th>84</th>\n",
              "      <td>2019-03-28</td>\n",
              "      <td>29667.0</td>\n",
              "      <td>-403.0</td>\n",
              "      <td>-1.340206</td>\n",
              "    </tr>\n",
              "    <tr>\n",
              "      <th>174</th>\n",
              "      <td>2019-08-13</td>\n",
              "      <td>31811.0</td>\n",
              "      <td>-529.0</td>\n",
              "      <td>-1.635745</td>\n",
              "    </tr>\n",
              "    <tr>\n",
              "      <th>175</th>\n",
              "      <td>2019-08-14</td>\n",
              "      <td>31343.0</td>\n",
              "      <td>-468.0</td>\n",
              "      <td>-1.471189</td>\n",
              "    </tr>\n",
              "    <tr>\n",
              "      <th>178</th>\n",
              "      <td>2019-08-20</td>\n",
              "      <td>30153.0</td>\n",
              "      <td>-436.0</td>\n",
              "      <td>-1.425349</td>\n",
              "    </tr>\n",
              "    <tr>\n",
              "      <th>184</th>\n",
              "      <td>2019-08-28</td>\n",
              "      <td>28582.0</td>\n",
              "      <td>-442.0</td>\n",
              "      <td>-1.522878</td>\n",
              "    </tr>\n",
              "    <tr>\n",
              "      <th>185</th>\n",
              "      <td>2019-08-29</td>\n",
              "      <td>27740.0</td>\n",
              "      <td>-842.0</td>\n",
              "      <td>-2.945910</td>\n",
              "    </tr>\n",
              "    <tr>\n",
              "      <th>186</th>\n",
              "      <td>2019-08-30</td>\n",
              "      <td>26663.0</td>\n",
              "      <td>-1077.0</td>\n",
              "      <td>-3.882480</td>\n",
              "    </tr>\n",
              "    <tr>\n",
              "      <th>187</th>\n",
              "      <td>2019-09-02</td>\n",
              "      <td>25687.0</td>\n",
              "      <td>-976.0</td>\n",
              "      <td>-3.660503</td>\n",
              "    </tr>\n",
              "    <tr>\n",
              "      <th>188</th>\n",
              "      <td>2019-09-03</td>\n",
              "      <td>24967.0</td>\n",
              "      <td>-720.0</td>\n",
              "      <td>-2.802974</td>\n",
              "    </tr>\n",
              "    <tr>\n",
              "      <th>189</th>\n",
              "      <td>2019-09-04</td>\n",
              "      <td>24203.0</td>\n",
              "      <td>-764.0</td>\n",
              "      <td>-3.060039</td>\n",
              "    </tr>\n",
              "    <tr>\n",
              "      <th>190</th>\n",
              "      <td>2019-09-05</td>\n",
              "      <td>23713.0</td>\n",
              "      <td>-490.0</td>\n",
              "      <td>-2.024542</td>\n",
              "    </tr>\n",
              "    <tr>\n",
              "      <th>191</th>\n",
              "      <td>2019-09-06</td>\n",
              "      <td>23308.0</td>\n",
              "      <td>-405.0</td>\n",
              "      <td>-1.707924</td>\n",
              "    </tr>\n",
              "  </tbody>\n",
              "</table>\n",
              "</div>"
            ],
            "text/plain": [
              "          DATE  DEPOSITOS PRIVADOS  VARIACION  VARIACION PCT\n",
              "72  2014-03-12              6672.0     -503.0      -7.010453\n",
              "165 2018-07-31             27139.0     -460.0      -1.666727\n",
              "84  2019-03-28             29667.0     -403.0      -1.340206\n",
              "174 2019-08-13             31811.0     -529.0      -1.635745\n",
              "175 2019-08-14             31343.0     -468.0      -1.471189\n",
              "178 2019-08-20             30153.0     -436.0      -1.425349\n",
              "184 2019-08-28             28582.0     -442.0      -1.522878\n",
              "185 2019-08-29             27740.0     -842.0      -2.945910\n",
              "186 2019-08-30             26663.0    -1077.0      -3.882480\n",
              "187 2019-09-02             25687.0     -976.0      -3.660503\n",
              "188 2019-09-03             24967.0     -720.0      -2.802974\n",
              "189 2019-09-04             24203.0     -764.0      -3.060039\n",
              "190 2019-09-05             23713.0     -490.0      -2.024542\n",
              "191 2019-09-06             23308.0     -405.0      -1.707924"
            ]
          },
          "metadata": {},
          "execution_count": 40
        }
      ]
    },
    {
      "cell_type": "code",
      "metadata": {
        "id": "WlHaWKJeQgaG",
        "colab": {
          "base_uri": "https://localhost:8080/"
        },
        "outputId": "76f1d576-7a97-41bd-f917-1dbf5fc8c763"
      },
      "source": [
        "# Que paso entre Octubre y Diciembre 2016 ?? Solo dos dias con retiro de dinero....Ingresaron mas de 7000 millones\n",
        "\n",
        "que_pasoooo = all_years_data[(all_years_data['DATE'] > '2016-10-01') & (all_years_data['DATE'] <= '2016-12-01')]\n",
        "#que_pasoooo.head(50)\n",
        "\n",
        "print(que_pasoooo)\n",
        "\n",
        "print('En un mes ingresaron ',que_pasoooo['VARIACION'].sum(),' millones de dolares')"
      ],
      "execution_count": 41,
      "outputs": [
        {
          "output_type": "stream",
          "name": "stdout",
          "text": [
            "          DATE  DEPOSITOS PRIVADOS  VARIACION  VARIACION PCT\n",
            "211 2016-10-03             13413.0      100.0       0.751145\n",
            "212 2016-10-04             13442.0       29.0       0.216208\n",
            "213 2016-10-05             13542.0      100.0       0.743937\n",
            "214 2016-10-06             13607.0       65.0       0.479988\n",
            "215 2016-10-07             13695.0       88.0       0.646726\n",
            "216 2016-10-11             13801.0      106.0       0.774005\n",
            "217 2016-10-12             13883.0       82.0       0.594160\n",
            "218 2016-10-13             14032.0      149.0       1.073255\n",
            "219 2016-10-14             14203.0      171.0       1.218643\n",
            "220 2016-10-17             14361.0      158.0       1.112441\n",
            "221 2016-10-18             14521.0      160.0       1.114129\n",
            "222 2016-10-19             14761.0      240.0       1.652779\n",
            "223 2016-10-20             15090.0      329.0       2.228846\n",
            "224 2016-10-21             15431.0      341.0       2.259775\n",
            "225 2016-10-24             15638.0      207.0       1.341456\n",
            "226 2016-10-25             15898.0      260.0       1.662617\n",
            "227 2016-10-26             16147.0      249.0       1.566235\n",
            "228 2016-10-27             16457.0      310.0       1.919861\n",
            "229 2016-10-28             16531.0       74.0       0.449657\n",
            "230 2016-10-31             16820.0      289.0       1.748231\n",
            "231 2016-11-01             16683.0     -137.0      -0.814507\n",
            "232 2016-11-02             16821.0      138.0       0.827189\n",
            "233 2016-11-03             16961.0      140.0       0.832293\n",
            "234 2016-11-04             17138.0      177.0       1.043571\n",
            "235 2016-11-07             17803.0      665.0       3.880266\n",
            "236 2016-11-08             17779.0      -24.0      -0.134809\n",
            "237 2016-11-09             17983.0      204.0       1.147421\n",
            "238 2016-11-10             18120.0      137.0       0.761831\n",
            "239 2016-11-11             18358.0      238.0       1.313466\n",
            "240 2016-11-14             18547.0      189.0       1.029524\n",
            "241 2016-11-15             18857.0      310.0       1.671429\n",
            "242 2016-11-16             19235.0      378.0       2.004561\n",
            "243 2016-11-17             19740.0      505.0       2.625422\n",
            "244 2016-11-18             20239.0      499.0       2.527862\n",
            "245 2016-11-21             20641.0      402.0       1.986264\n",
            "246 2016-11-22             20668.0       27.0       0.130808\n",
            "247 2016-11-23             20683.0       15.0       0.072576\n",
            "248 2016-11-24             20703.0       20.0       0.096698\n",
            "249 2016-11-25             20739.0       36.0       0.173888\n",
            "250 2016-11-29             20768.0       29.0       0.139833\n",
            "251 2016-11-30             20925.0      157.0       0.755971\n",
            "252 2016-12-01             20990.0       65.0       0.310633\n",
            "En un mes ingresaron  7677.0  millones de dolares\n"
          ]
        }
      ]
    },
    {
      "cell_type": "code",
      "metadata": {
        "id": "ci-dn7qHYQpG",
        "colab": {
          "base_uri": "https://localhost:8080/"
        },
        "outputId": "67aa4777-ff15-48d3-ba8f-5e4bb58fb773"
      },
      "source": [
        "# Que paso estos tres dias de Abril de 2017 ?? ingresaron casi 1300 millones ...\n",
        "que_pasoooo_aca = all_years_data[(all_years_data['DATE'] > '2017-04-11') & (all_years_data['DATE'] <= '2017-04-18')]\n",
        "\n",
        "print(que_pasoooo_aca)\n",
        "\n",
        "print('En tres dias ingresaron ',que_pasoooo_aca['VARIACION'].sum(),' millones de dolares')"
      ],
      "execution_count": 42,
      "outputs": [
        {
          "output_type": "stream",
          "name": "stdout",
          "text": [
            "         DATE  DEPOSITOS PRIVADOS  VARIACION  VARIACION PCT\n",
            "94 2017-04-12             23633.0       33.0       0.139831\n",
            "95 2017-04-17             24808.0     1175.0       4.971861\n",
            "96 2017-04-18             24882.0       74.0       0.298291\n",
            "En tres dias ingresaron  1282.0  millones de dolares\n"
          ]
        }
      ]
    }
  ]
}